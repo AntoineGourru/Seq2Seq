{
 "cells": [
  {
   "cell_type": "code",
   "execution_count": 1,
   "metadata": {},
   "outputs": [],
   "source": [
    "#!curl -o data/fra-eng.zip http://www.manythings.org/anki/fra-eng.zip\n",
    "#!unzip data/fra-eng.zip -d data/"
   ]
  },
  {
   "cell_type": "markdown",
   "metadata": {},
   "source": [
    "### Reading Data and Tokenization"
   ]
  },
  {
   "cell_type": "code",
   "execution_count": 2,
   "metadata": {},
   "outputs": [
    {
     "name": "stdout",
     "output_type": "stream",
     "text": [
      "['<S>', 'stay', 'thin', '.', '</S>']\n",
      "['<S>', 'reste', 'mince', '!', '</S>']\n"
     ]
    }
   ],
   "source": [
    "import pandas as pd\n",
    "\n",
    "data = pd.read_csv(\"data/fra.txt\",sep='\\t',header= None,encoding=\"utf-8\")\n",
    "ang = list(data[0])\n",
    "fra = list(data[1])\n",
    "\n",
    "from spacy.lang.en import English\n",
    "from spacy.lang.fr import French\n",
    "\n",
    "nlp = English()\n",
    "tokenizer = nlp.Defaults.create_tokenizer(nlp)\n",
    "nlp_f = French()\n",
    "tokenizer_f = nlp_f.Defaults.create_tokenizer(nlp_f)\n",
    "\n",
    "ang = [['<S>'] + [token.string.strip() for token in tokenizer(text.lower())] + ['</S>'] for text in ang][:10000]\n",
    "\n",
    "fra = [['<S>'] + [token.string.strip() for token in tokenizer_f(text.lower())] + ['</S>'] for text in fra][:10000]\n",
    "\n",
    "print(ang[1000])\n",
    "print(fra[1000])"
   ]
  },
  {
   "cell_type": "markdown",
   "metadata": {},
   "source": [
    "### Training Word2Vec"
   ]
  },
  {
   "cell_type": "code",
   "execution_count": 3,
   "metadata": {},
   "outputs": [],
   "source": [
    "from gensim.models import Word2Vec\n",
    "import numpy as np\n",
    "\n",
    "EMBEDDING_SIZE = 120\n",
    "w2v = Word2Vec(ang, size=EMBEDDING_SIZE, window=10, min_count=1, negative=10, workers=10)\n",
    "word_map = {}\n",
    "word_map[\"<PAD>\"] = 0\n",
    "word_vectors = [np.zeros((EMBEDDING_SIZE,))]\n",
    "for i, w in enumerate([w for w in w2v.wv.vocab]):\n",
    "    word_map[w] = i+1\n",
    "    word_vectors.append(w2v.wv[w])\n",
    "word_vectors = np.vstack(word_vectors)\n",
    "\n",
    "w2v = Word2Vec(fra, size=EMBEDDING_SIZE, window=10, min_count=1, negative=10, workers=10)\n",
    "word_map_fr = {}\n",
    "word_map_fr[\"<PAD>\"] = 0\n",
    "word_vectors_fr = [np.zeros((EMBEDDING_SIZE,))]\n",
    "for i, w in enumerate([w for w in w2v.wv.vocab]):\n",
    "    word_map_fr[w] = i+1\n",
    "    word_vectors_fr.append(w2v.wv[w])\n",
    "word_vectors_fr = np.vstack(word_vectors_fr)\n",
    "i2w = dict(zip([*word_map_fr.values()],[*word_map_fr]))"
   ]
  },
  {
   "cell_type": "markdown",
   "metadata": {},
   "source": [
    "### Padding, word2id and shifting"
   ]
  },
  {
   "cell_type": "code",
   "execution_count": 4,
   "metadata": {},
   "outputs": [],
   "source": [
    "def pad(a,shift = False):\n",
    "    shape = len(a)\n",
    "    max_s = max([len(x) for x in a])\n",
    "    if shift:\n",
    "        token = np.zeros((shape,max_s+1),dtype = np.int)\n",
    "        mask  =  np.zeros((shape,max_s+1),dtype = np.int)\n",
    "        for i,o in enumerate(a):\n",
    "            token[i,:len(o)] = o\n",
    "            mask[i,:len(o)] = 1\n",
    "        return token[:,1:],mask[:,1:],max_s       \n",
    "    else:            \n",
    "        token = np.zeros((shape,max_s),dtype = np.int)\n",
    "        mask  =  np.zeros((shape,max_s),dtype = np.int)\n",
    "        for i,o in enumerate(a):\n",
    "            token[i,:len(o)] = o\n",
    "            mask[i,:len(o)] = 1\n",
    "        return token,mask,max_s \n",
    "        "
   ]
  },
  {
   "cell_type": "code",
   "execution_count": 5,
   "metadata": {},
   "outputs": [],
   "source": [
    "ang_tok,ang_mask,ang_pl = pad([[word_map[w] for w in text] for text in ang])\n",
    "fra_tok,fra_mask,fr_pl = pad([[word_map_fr[w] for w in text] for text in fra])\n",
    "fra_toks_s,fra_mask_s,_ = pad([[word_map_fr[w] for w in text] for text in fra],shift = True)"
   ]
  },
  {
   "cell_type": "code",
   "execution_count": 6,
   "metadata": {},
   "outputs": [],
   "source": [
    "#Source : https://www.tensorflow.org/tutorials/text/transformer\n",
    "def get_angles(pos, i, d_model):\n",
    "    angle_rates = 1 / np.power(10000, (2 * (i//2)) / np.float32(d_model))\n",
    "    return pos * angle_rates\n",
    "def positional_encoding(position, d_model):\n",
    "    angle_rads = get_angles(np.arange(position)[:, np.newaxis],\n",
    "                          np.arange(d_model)[np.newaxis, :],\n",
    "                          d_model)\n",
    "\n",
    "    # apply sin to even indices in the array; 2i\n",
    "    angle_rads[:, 0::2] = np.sin(angle_rads[:, 0::2])\n",
    "\n",
    "    # apply cos to odd indices in the array; 2i+1\n",
    "    angle_rads[:, 1::2] = np.cos(angle_rads[:, 1::2])\n",
    "\n",
    "    pos_encoding = angle_rads[np.newaxis, ...]\n",
    "\n",
    "    return tf.cast(pos_encoding, dtype=tf.float32)\n"
   ]
  },
  {
   "cell_type": "markdown",
   "metadata": {},
   "source": [
    "### Seq2Seq model"
   ]
  },
  {
   "cell_type": "code",
   "execution_count": 7,
   "metadata": {},
   "outputs": [],
   "source": [
    "from tensorflow.keras import layers,Model\n",
    "from tensorflow.keras.initializers import Constant\n",
    "import tensorflow as tf\n",
    "\n",
    "class S2S(tf.keras.Model):\n",
    "    def __init__(self,Win,Wout,pl_in,pl_out,i2w):\n",
    "      \n",
    "        super(S2S, self).__init__() \n",
    "        \n",
    "        self.nv_in = Win.shape[0]\n",
    "        self.r = Win.shape[1]\n",
    "        self.nv_out = Wout.shape[0]\n",
    "        self.pl_in = pl_in\n",
    "        self.pl_out = pl_out\n",
    "        \n",
    "        self.i2w = i2w\n",
    "        \n",
    "        self.positional_in = positional_encoding(self.pl_in,self.r)\n",
    "        self.positional_out = positional_encoding(self.pl_out,self.r)\n",
    "        \n",
    "        self.Win = layers.Embedding(self.nv_in,self.r)\n",
    "        self.Win.build((None, ))\n",
    "        self.Win.set_weights([Win])\n",
    "        self.Win.trainable = True\n",
    "\n",
    "        self.Wout = layers.Embedding(self.nv_out,self.r)\n",
    "        self.Wout.build((None, ))\n",
    "        self.Wout.set_weights([Wout])\n",
    "        self.Wout.trainable = True\n",
    "                    \n",
    "        #### Encoder #####\n",
    "        \n",
    "        self.attention = layers.Attention(use_scale=True)\n",
    "        self.attention.build((None,self.r))\n",
    "        self.attention.scale = self.attention.add_weight(\n",
    "            name='scale',\n",
    "            shape=(),\n",
    "            initializer=tf.keras.initializers.Constant(1/np.sqrt(self.r)),\n",
    "            trainable=False)\n",
    "        self.W1 = layers.Dense(self.r,activation=\"linear\",use_bias=False,name = 'W1')\n",
    "        self.W2 = layers.Dense(self.r,activation=\"linear\",use_bias=False,name = 'W2')\n",
    "        self.W3 = layers.Dense(self.r,activation=\"linear\",use_bias=False,name = 'W3')\n",
    "        \n",
    "        self.FF = layers.Dense(self.r,activation = \"relu\")\n",
    "        self.FF2 = layers.Dense(self.r)\n",
    "        self.layernorm1 = tf.keras.layers.LayerNormalization(epsilon=1e-6)\n",
    "        self.layernorm2 = tf.keras.layers.LayerNormalization(epsilon=1e-6)\n",
    "        \n",
    "        #### Decoder #####\n",
    "        \n",
    "        self.attention2 = layers.Attention(use_scale=True)\n",
    "        self.attention2.build((None,self.r))\n",
    "        self.attention2.scale = self.attention2.add_weight(\n",
    "            name='scale',\n",
    "            shape=(),\n",
    "            initializer=tf.keras.initializers.Constant(1/np.sqrt(self.r)),\n",
    "            trainable=False)\n",
    "        self.W12 = layers.Dense(self.r,activation=\"linear\",use_bias=False,name = 'W12')\n",
    "        self.W22 = layers.Dense(self.r,activation=\"linear\",use_bias=False,name = 'W22')\n",
    "        self.W32 = layers.Dense(self.r,activation=\"linear\",use_bias=False,name = 'W32')\n",
    "        \n",
    "        self.attention3 = layers.Attention(use_scale=True)\n",
    "        self.attention3.build((None,self.r))\n",
    "        self.attention3.scale = self.attention3.add_weight(\n",
    "            name='scale',\n",
    "            shape=(),\n",
    "            initializer=tf.keras.initializers.Constant(1/np.sqrt(self.r)),\n",
    "            trainable=False)\n",
    "        self.W13 = layers.Dense(self.r,activation=\"linear\",use_bias=False,name = 'W13')\n",
    "        self.W23 = layers.Dense(self.r,activation=\"linear\",use_bias=False,name = 'W23')\n",
    "        self.W33 = layers.Dense(self.r,activation=\"linear\",use_bias=False,name = 'W33')\n",
    "        \n",
    "        self.FF2 = layers.Dense(self.r,activation = \"relu\")\n",
    "        self.FF22 = layers.Dense(self.r)\n",
    "        \n",
    "        self.layernorm3 = tf.keras.layers.LayerNormalization(epsilon=1e-6)\n",
    "        self.layernorm4 = tf.keras.layers.LayerNormalization(epsilon=1e-6)\n",
    "        self.layernorm5 = tf.keras.layers.LayerNormalization(epsilon=1e-6)\n",
    "\n",
    "        #### Prediction ####\n",
    "        self.mapper1 = layers.Dense(self.r,activation = \"linear\")\n",
    "        self.mapper2 = layers.Dense(self.nv_out,activation = \"softmax\")\n",
    "\n",
    "    @tf.function\n",
    "    def call(self,x_tok,x_mask,y_tok,y_mask):\n",
    "        \n",
    "        x = self.Win(x_tok)\n",
    "        x_mask = tf.cast(x_mask,dtype=bool)\n",
    "        x += self.positional_in\n",
    "        \n",
    "        y = self.Wout(y_tok)\n",
    "        y_mask = tf.cast(y_mask,dtype=bool)\n",
    "        y += self.positional_out\n",
    "        \n",
    "        x_dec = self.encoder(x,x_mask)  \n",
    "        \n",
    "        end_dec_output = self.decoder(x_dec,x_mask,y,y_mask)\n",
    "        \n",
    "        probs = self.mapper2(self.mapper1(end_dec_output))\n",
    "        \n",
    "        return probs\n",
    "\n",
    "    def encoder(self,x,x_mask):    \n",
    "\n",
    "        x += self.attention([self.W1(x),self.W2(x),self.W3(x)],mask = [x_mask,x_mask])\n",
    "        x = self.layernorm1(x)\n",
    "        \n",
    "        x += self.FF2(self.FF(x))\n",
    "        x = self.layernorm2(x)\n",
    "        \n",
    "        return x\n",
    "        \n",
    "    def decoder(self,x,x_mask,y,y_mask):    \n",
    "\n",
    "        y += self.attention2([self.W12(y),self.W22(y),self.W32(y)],mask = [y_mask,y_mask])\n",
    "        y = self.layernorm3(y)\n",
    "        \n",
    "        y += self.attention3([self.W13(y),self.W23(x),self.W33(x)],mask = [y_mask,x_mask])\n",
    "        y = self.layernorm4(y)\n",
    "        \n",
    "        y += self.FF2(self.FF(y))\n",
    "        y = self.layernorm5(y)\n",
    "            \n",
    "        return y   \n",
    "    \n",
    "    def generate(self,start_emb,stop_emb,x,x_mask):\n",
    "        aout = []\n",
    "        tok = [start_emb]\n",
    "        \n",
    "        x = tf.expand_dims(x,axis=0)\n",
    "        x_mask = tf.expand_dims(x_mask,axis=0)\n",
    "                \n",
    "        for i in range(10):\n",
    "            y = tf.expand_dims(tf.constant(tok),axis=0)\n",
    "            y = tf.pad(y, tf.constant([[0, 0], [0, self.pl_out-len(tok)]]), \"CONSTANT\")\n",
    "\n",
    "            y_mask = tf.expand_dims(tf.constant([1 for i in range(len(tok))]),axis=0)\n",
    "            y_mask = tf.pad(y_mask, tf.constant([[0, 0], [0, self.pl_out-len(tok)]]), \"CONSTANT\")\n",
    "\n",
    "            probs = model(x,x_mask,y,y_mask)\n",
    "            probs = tf.squeeze(tf.gather(probs, [i+1], axis=1))\n",
    "            val,argval = tf.nn.top_k(probs, k=2, sorted=True, name=None)\n",
    "            x_out = argval.numpy()[0]\n",
    "            aout.append(self.i2w[x_out])\n",
    "            tok.append(x_out)\n",
    "        \n",
    "        return aout\n",
    "\n"
   ]
  },
  {
   "cell_type": "markdown",
   "metadata": {},
   "source": [
    "### Function for optim"
   ]
  },
  {
   "cell_type": "code",
   "execution_count": 8,
   "metadata": {},
   "outputs": [],
   "source": [
    "#@tf.function\n",
    "def mask_pred(mask,pos):\n",
    "    \n",
    "    pred_mask = tf.ones((mask.shape[0],pos),dtype=tf.dtypes.int32)\n",
    "\n",
    "    paddings = tf.constant([[0, 0], [0, mask.shape[1]-pos]])\n",
    "    \n",
    "    pred_mask = tf.pad(pred_mask, paddings, \"CONSTANT\")\n",
    "    \n",
    "    return mask * pred_mask\n",
    "\n",
    "#@tf.function\n",
    "def compute_loss(model,loss_f,x,x_mask,y,y_mask):\n",
    "    \n",
    "    pro = []\n",
    "    for t in range(fr_pl-1):\n",
    "        res = model(x,x_mask,y,mask_pred(y_mask,t+1))\n",
    "        res = tf.gather(res, [t+1], axis=1)\n",
    "        pro.append(res)\n",
    "    pro = tf.concat(pro,1) \n",
    "    \n",
    "    y = tf.slice(y,[0,1],[y.shape[0],y.shape[1]-1])\n",
    "    y_onehot = tf.one_hot(y,depth = word_vectors_fr.shape[0])\n",
    "\n",
    "    y_mask = tf.slice(y_mask,[0,1],[y_mask.shape[0],y_mask.shape[1]-1])\n",
    "    y_mask = tf.cast(y_mask,dtype=bool)\n",
    "    \n",
    "    y_true= tf.boolean_mask(y_onehot,y_mask)\n",
    "\n",
    "    y_pred = tf.boolean_mask(pro,y_mask) \n",
    "    \n",
    "    return loss_f(y_true,y_pred),y_true,y_pred\n",
    "\n",
    "\n",
    "#@tf.function\n",
    "def compute_apply_gradients(model,loss_f,x,x_mask,y,y_mask,optimizer):\n",
    "\n",
    "    with tf.GradientTape() as tape:\n",
    "        \n",
    "        loss,label,prediction= compute_loss(model, loss_f,x,x_mask,y,y_mask)\n",
    "        \n",
    "    gradients = tape.gradient(loss, model.trainable_variables)\n",
    "    \n",
    "    optimizer.apply_gradients(zip(gradients, model.trainable_variables))\n",
    "    \n",
    "    return loss,label,prediction\n",
    "\n",
    "\n"
   ]
  },
  {
   "cell_type": "markdown",
   "metadata": {},
   "source": [
    "### Split"
   ]
  },
  {
   "cell_type": "code",
   "execution_count": 9,
   "metadata": {},
   "outputs": [
    {
     "name": "stdout",
     "output_type": "stream",
     "text": [
      "(10000, 18)\n",
      "(10000, 30)\n"
     ]
    }
   ],
   "source": [
    "batch_size = 128\n",
    "\n",
    "X = np.hstack([ang_tok,ang_mask])\n",
    "print(X.shape)\n",
    "Y = np.hstack([fra_tok,fra_mask])\n",
    "print(Y.shape)\n",
    "from sklearn.model_selection import train_test_split\n",
    "\n",
    "X_train, X_test, Y_train, Y_test = train_test_split(X, Y, train_size=0.80, random_state=101)\n",
    "\n",
    "\n",
    "train_data = tf.data.Dataset.from_tensor_slices((X_train,Y_train)).batch(batch_size)\n",
    "\n",
    "test_data = tf.data.Dataset.from_tensor_slices((X_test,Y_test)).batch(batch_size)\n"
   ]
  },
  {
   "cell_type": "markdown",
   "metadata": {},
   "source": [
    "### Model declaration"
   ]
  },
  {
   "cell_type": "code",
   "execution_count": 10,
   "metadata": {},
   "outputs": [],
   "source": [
    "model = S2S(word_vectors,word_vectors_fr,ang_pl,fr_pl,i2w)"
   ]
  },
  {
   "cell_type": "markdown",
   "metadata": {},
   "source": [
    "### Test"
   ]
  },
  {
   "cell_type": "markdown",
   "metadata": {},
   "source": [
    "### Training"
   ]
  },
  {
   "cell_type": "code",
   "execution_count": 11,
   "metadata": {},
   "outputs": [
    {
     "name": "stdout",
     "output_type": "stream",
     "text": [
      "1\n"
     ]
    },
    {
     "data": {
      "application/vnd.jupyter.widget-view+json": {
       "model_id": "3e9c9371bcb74ec2aef3ce19b3ac22ba",
       "version_major": 2,
       "version_minor": 0
      },
      "text/plain": [
       "HBox(children=(FloatProgress(value=0.0, max=63.0), HTML(value='')))"
      ]
     },
     "metadata": {},
     "output_type": "display_data"
    },
    {
     "name": "stdout",
     "output_type": "stream",
     "text": [
      "\n"
     ]
    },
    {
     "data": {
      "application/vnd.jupyter.widget-view+json": {
       "model_id": "4872d52bf4d142319a584e950b602f07",
       "version_major": 2,
       "version_minor": 0
      },
      "text/plain": [
       "HBox(children=(FloatProgress(value=0.0, max=16.0), HTML(value='')))"
      ]
     },
     "metadata": {},
     "output_type": "display_data"
    },
    {
     "name": "stdout",
     "output_type": "stream",
     "text": [
      "\n",
      "<S> stay thin . </S>\n",
      ". . . . . . </S> </S> </S> </S>\n",
      "<S> who wants it ? </S>\n",
      ". . . . . . </S> </S> </S> </S>\n",
      "Loss: 7.40880823135376, Accuracy: 10.83166217803955, Test Loss: 6.41456937789917, Test Accuracy: 13.472949028015137\n",
      "2\n"
     ]
    },
    {
     "data": {
      "application/vnd.jupyter.widget-view+json": {
       "model_id": "b57dd6285582418f891acf2922bae1d6",
       "version_major": 2,
       "version_minor": 0
      },
      "text/plain": [
       "HBox(children=(FloatProgress(value=0.0, max=63.0), HTML(value='')))"
      ]
     },
     "metadata": {},
     "output_type": "display_data"
    },
    {
     "name": "stdout",
     "output_type": "stream",
     "text": [
      "\n"
     ]
    },
    {
     "data": {
      "application/vnd.jupyter.widget-view+json": {
       "model_id": "f68ff5d6b0f140a6a176ef7b81030b41",
       "version_major": 2,
       "version_minor": 0
      },
      "text/plain": [
       "HBox(children=(FloatProgress(value=0.0, max=16.0), HTML(value='')))"
      ]
     },
     "metadata": {},
     "output_type": "display_data"
    },
    {
     "name": "stdout",
     "output_type": "stream",
     "text": [
      "\n",
      "<S> stay thin . </S>\n",
      ". . . . . </S> </S> </S> </S> </S>\n",
      "<S> who wants it ? </S>\n",
      ". . . . . </S> </S> </S> </S> </S>\n",
      "Loss: 6.464352130889893, Accuracy: 12.162191390991211, Test Loss: 5.639620304107666, Test Accuracy: 14.092495918273926\n",
      "3\n"
     ]
    },
    {
     "data": {
      "application/vnd.jupyter.widget-view+json": {
       "model_id": "0125060c3b2d4aa5ab939bf7ed14bbb0",
       "version_major": 2,
       "version_minor": 0
      },
      "text/plain": [
       "HBox(children=(FloatProgress(value=0.0, max=63.0), HTML(value='')))"
      ]
     },
     "metadata": {},
     "output_type": "display_data"
    },
    {
     "name": "stdout",
     "output_type": "stream",
     "text": [
      "\n"
     ]
    },
    {
     "data": {
      "application/vnd.jupyter.widget-view+json": {
       "model_id": "e42405a7a5524cd3bcb0b618f4ede5dd",
       "version_major": 2,
       "version_minor": 0
      },
      "text/plain": [
       "HBox(children=(FloatProgress(value=0.0, max=16.0), HTML(value='')))"
      ]
     },
     "metadata": {},
     "output_type": "display_data"
    },
    {
     "name": "stdout",
     "output_type": "stream",
     "text": [
      "\n",
      "<S> stay thin . </S>\n",
      "je je </S> </S> </S> </S> </S> </S> </S> </S>\n",
      "<S> who wants it ? </S>\n",
      "je je </S> </S> </S> </S> </S> </S> </S> </S>\n",
      "Loss: 5.827961444854736, Accuracy: 15.221717834472656, Test Loss: 5.206843376159668, Test Accuracy: 18.487491607666016\n",
      "4\n"
     ]
    },
    {
     "data": {
      "application/vnd.jupyter.widget-view+json": {
       "model_id": "9b0bdd2341424fddb197338efdf84aa7",
       "version_major": 2,
       "version_minor": 0
      },
      "text/plain": [
       "HBox(children=(FloatProgress(value=0.0, max=63.0), HTML(value='')))"
      ]
     },
     "metadata": {},
     "output_type": "display_data"
    },
    {
     "name": "stdout",
     "output_type": "stream",
     "text": [
      "\n"
     ]
    },
    {
     "data": {
      "application/vnd.jupyter.widget-view+json": {
       "model_id": "4e16d5b5225e488695893b9407d6c391",
       "version_major": 2,
       "version_minor": 0
      },
      "text/plain": [
       "HBox(children=(FloatProgress(value=0.0, max=16.0), HTML(value='')))"
      ]
     },
     "metadata": {},
     "output_type": "display_data"
    },
    {
     "name": "stdout",
     "output_type": "stream",
     "text": [
      "\n",
      "<S> stay thin . </S>\n",
      "je je je ! </S> </S> </S> </S> </S> </S>\n",
      "<S> who wants it ? </S>\n",
      "je je je ! </S> </S> </S> </S> </S> </S>\n",
      "Loss: 5.404690265655518, Accuracy: 18.097267150878906, Test Loss: 4.90612268447876, Test Accuracy: 20.69153594970703\n",
      "5\n"
     ]
    },
    {
     "data": {
      "application/vnd.jupyter.widget-view+json": {
       "model_id": "edc14605c4854bd9950b33677fb70ce0",
       "version_major": 2,
       "version_minor": 0
      },
      "text/plain": [
       "HBox(children=(FloatProgress(value=0.0, max=63.0), HTML(value='')))"
      ]
     },
     "metadata": {},
     "output_type": "display_data"
    },
    {
     "name": "stdout",
     "output_type": "stream",
     "text": [
      "\n"
     ]
    },
    {
     "data": {
      "application/vnd.jupyter.widget-view+json": {
       "model_id": "2eaa5c0285d4459f8fe1c2c1e1bfd30e",
       "version_major": 2,
       "version_minor": 0
      },
      "text/plain": [
       "HBox(children=(FloatProgress(value=0.0, max=16.0), HTML(value='')))"
      ]
     },
     "metadata": {},
     "output_type": "display_data"
    },
    {
     "name": "stdout",
     "output_type": "stream",
     "text": [
      "\n",
      "<S> stay thin . </S>\n",
      "assieds arrive prêt train </S> </S> </S> </S> </S> </S>\n",
      "<S> who wants it ? </S>\n",
      "assieds arrive prêt train </S> </S> </S> </S> </S> </S>\n",
      "Loss: 5.097151756286621, Accuracy: 20.476856231689453, Test Loss: 4.68280553817749, Test Accuracy: 22.82547950744629\n",
      "6\n"
     ]
    },
    {
     "data": {
      "application/vnd.jupyter.widget-view+json": {
       "model_id": "60a8cc18365546b78c9231d4fc8be7d4",
       "version_major": 2,
       "version_minor": 0
      },
      "text/plain": [
       "HBox(children=(FloatProgress(value=0.0, max=63.0), HTML(value='')))"
      ]
     },
     "metadata": {},
     "output_type": "display_data"
    },
    {
     "name": "stdout",
     "output_type": "stream",
     "text": [
      "\n"
     ]
    },
    {
     "data": {
      "application/vnd.jupyter.widget-view+json": {
       "model_id": "99b29ed3b2a2415ba535b0265bcce00c",
       "version_major": 2,
       "version_minor": 0
      },
      "text/plain": [
       "HBox(children=(FloatProgress(value=0.0, max=16.0), HTML(value='')))"
      ]
     },
     "metadata": {},
     "output_type": "display_data"
    },
    {
     "name": "stdout",
     "output_type": "stream",
     "text": [
      "\n",
      "<S> stay thin . </S>\n",
      "assieds arrive prêt train maison </S> </S> </S> </S> </S>\n",
      "<S> who wants it ? </S>\n",
      "assieds arrive prêt train maison </S> </S> </S> </S> </S>\n",
      "Loss: 4.85533332824707, Accuracy: 22.55906105041504, Test Loss: 4.499323844909668, Test Accuracy: 25.178882598876953\n",
      "7\n"
     ]
    },
    {
     "data": {
      "application/vnd.jupyter.widget-view+json": {
       "model_id": "91eb9312cb63424fa06c424e9349ee3e",
       "version_major": 2,
       "version_minor": 0
      },
      "text/plain": [
       "HBox(children=(FloatProgress(value=0.0, max=63.0), HTML(value='')))"
      ]
     },
     "metadata": {},
     "output_type": "display_data"
    },
    {
     "name": "stdout",
     "output_type": "stream",
     "text": [
      "\n"
     ]
    },
    {
     "data": {
      "application/vnd.jupyter.widget-view+json": {
       "model_id": "857da008915d4554a70350e21a4aba01",
       "version_major": 2,
       "version_minor": 0
      },
      "text/plain": [
       "HBox(children=(FloatProgress(value=0.0, max=16.0), HTML(value='')))"
      ]
     },
     "metadata": {},
     "output_type": "display_data"
    },
    {
     "name": "stdout",
     "output_type": "stream",
     "text": [
      "\n",
      "<S> stay thin . </S>\n",
      "assieds arrive prêt train maison maison </S> </S> </S> </S>\n",
      "<S> who wants it ? </S>\n",
      "assieds arrive prêt train maison maison </S> </S> </S> </S>\n",
      "Loss: 4.647609710693359, Accuracy: 24.874526977539062, Test Loss: 4.336092948913574, Test Accuracy: 27.427074432373047\n",
      "8\n"
     ]
    },
    {
     "data": {
      "application/vnd.jupyter.widget-view+json": {
       "model_id": "252287ca6f9b4be393e091b431442a15",
       "version_major": 2,
       "version_minor": 0
      },
      "text/plain": [
       "HBox(children=(FloatProgress(value=0.0, max=63.0), HTML(value='')))"
      ]
     },
     "metadata": {},
     "output_type": "display_data"
    },
    {
     "name": "stdout",
     "output_type": "stream",
     "text": [
      "\n"
     ]
    },
    {
     "data": {
      "application/vnd.jupyter.widget-view+json": {
       "model_id": "8a18373017c8470095780f8db5cb674b",
       "version_major": 2,
       "version_minor": 0
      },
      "text/plain": [
       "HBox(children=(FloatProgress(value=0.0, max=16.0), HTML(value='')))"
      ]
     },
     "metadata": {},
     "output_type": "display_data"
    },
    {
     "name": "stdout",
     "output_type": "stream",
     "text": [
      "\n",
      "<S> stay thin . </S>\n",
      "assieds arrive prêt train maison maison maison </S> </S> </S>\n",
      "<S> who wants it ? </S>\n",
      "assieds arrive prêt train maison maison maison </S> </S> </S>\n",
      "Loss: 4.460128307342529, Accuracy: 27.261409759521484, Test Loss: 4.1877217292785645, Test Accuracy: 29.969459533691406\n",
      "9\n"
     ]
    },
    {
     "data": {
      "application/vnd.jupyter.widget-view+json": {
       "model_id": "e2251c17b53b4584add2787198127073",
       "version_major": 2,
       "version_minor": 0
      },
      "text/plain": [
       "HBox(children=(FloatProgress(value=0.0, max=63.0), HTML(value='')))"
      ]
     },
     "metadata": {},
     "output_type": "display_data"
    },
    {
     "name": "stdout",
     "output_type": "stream",
     "text": [
      "\n"
     ]
    },
    {
     "data": {
      "application/vnd.jupyter.widget-view+json": {
       "model_id": "84749c447d0e4c21bc4aa1f8c14c91ae",
       "version_major": 2,
       "version_minor": 0
      },
      "text/plain": [
       "HBox(children=(FloatProgress(value=0.0, max=16.0), HTML(value='')))"
      ]
     },
     "metadata": {},
     "output_type": "display_data"
    },
    {
     "name": "stdout",
     "output_type": "stream",
     "text": [
      "\n",
      "<S> stay thin . </S>\n",
      "assieds arrive arrive train maison maison maison maison maison </S>\n",
      "<S> who wants it ? </S>\n",
      "assieds arrive arrive train maison maison maison maison maison </S>\n",
      "Loss: 4.288618087768555, Accuracy: 29.94968032836914, Test Loss: 4.051950454711914, Test Accuracy: 32.68857955932617\n",
      "10\n"
     ]
    },
    {
     "data": {
      "application/vnd.jupyter.widget-view+json": {
       "model_id": "ce4bf75ee6124cfe89b702e61ba0116d",
       "version_major": 2,
       "version_minor": 0
      },
      "text/plain": [
       "HBox(children=(FloatProgress(value=0.0, max=63.0), HTML(value='')))"
      ]
     },
     "metadata": {},
     "output_type": "display_data"
    },
    {
     "name": "stdout",
     "output_type": "stream",
     "text": [
      "\n"
     ]
    },
    {
     "data": {
      "application/vnd.jupyter.widget-view+json": {
       "model_id": "eab289bcedef4e2b819e72a719540c4f",
       "version_major": 2,
       "version_minor": 0
      },
      "text/plain": [
       "HBox(children=(FloatProgress(value=0.0, max=16.0), HTML(value='')))"
      ]
     },
     "metadata": {},
     "output_type": "display_data"
    },
    {
     "name": "stdout",
     "output_type": "stream",
     "text": [
      "\n",
      "<S> stay thin . </S>\n",
      "assieds arrive arrive maison maison maison maison maison maison </S>\n",
      "<S> who wants it ? </S>\n",
      "assieds arrive arrive maison maison maison maison maison maison </S>\n",
      "Loss: 4.1302361488342285, Accuracy: 32.555137634277344, Test Loss: 3.9267895221710205, Test Accuracy: 35.30628204345703\n",
      "11\n"
     ]
    },
    {
     "data": {
      "application/vnd.jupyter.widget-view+json": {
       "model_id": "58e8f954d13f45a4adb96b102219663b",
       "version_major": 2,
       "version_minor": 0
      },
      "text/plain": [
       "HBox(children=(FloatProgress(value=0.0, max=63.0), HTML(value='')))"
      ]
     },
     "metadata": {},
     "output_type": "display_data"
    },
    {
     "name": "stdout",
     "output_type": "stream",
     "text": [
      "\n"
     ]
    },
    {
     "data": {
      "application/vnd.jupyter.widget-view+json": {
       "model_id": "0528d8ad2ae148779a9cb2ceedd294c4",
       "version_major": 2,
       "version_minor": 0
      },
      "text/plain": [
       "HBox(children=(FloatProgress(value=0.0, max=16.0), HTML(value='')))"
      ]
     },
     "metadata": {},
     "output_type": "display_data"
    },
    {
     "name": "stdout",
     "output_type": "stream",
     "text": [
      "\n",
      "<S> stay thin . </S>\n",
      "assieds arrive arrive blague maison plaît plaît plaît maison maison\n",
      "<S> who wants it ? </S>\n",
      "assieds arrive arrive blague maison plaît plaît plaît maison maison\n",
      "Loss: 3.9829471111297607, Accuracy: 35.07600021362305, Test Loss: 3.810539960861206, Test Accuracy: 37.8438835144043\n",
      "12\n"
     ]
    },
    {
     "data": {
      "application/vnd.jupyter.widget-view+json": {
       "model_id": "994b4f692ff04c32a47c93bba93ef39d",
       "version_major": 2,
       "version_minor": 0
      },
      "text/plain": [
       "HBox(children=(FloatProgress(value=0.0, max=63.0), HTML(value='')))"
      ]
     },
     "metadata": {},
     "output_type": "display_data"
    },
    {
     "name": "stdout",
     "output_type": "stream",
     "text": [
      "\n"
     ]
    },
    {
     "data": {
      "application/vnd.jupyter.widget-view+json": {
       "model_id": "febd01d8c4d342979f9a146a21b4df57",
       "version_major": 2,
       "version_minor": 0
      },
      "text/plain": [
       "HBox(children=(FloatProgress(value=0.0, max=16.0), HTML(value='')))"
      ]
     },
     "metadata": {},
     "output_type": "display_data"
    },
    {
     "name": "stdout",
     "output_type": "stream",
     "text": [
      "\n",
      "<S> stay thin . </S>\n",
      "assieds arrive arrive blague maison plaît plaît plaît plaît </S>\n",
      "<S> who wants it ? </S>\n",
      "assieds arrive arrive blague maison plaît plaît plaît plaît </S>\n",
      "Loss: 3.8452796936035156, Accuracy: 37.56283950805664, Test Loss: 3.7019083499908447, Test Accuracy: 40.27632522583008\n",
      "13\n"
     ]
    },
    {
     "data": {
      "application/vnd.jupyter.widget-view+json": {
       "model_id": "43a5648a780f4a049610e953b9dff46c",
       "version_major": 2,
       "version_minor": 0
      },
      "text/plain": [
       "HBox(children=(FloatProgress(value=0.0, max=63.0), HTML(value='')))"
      ]
     },
     "metadata": {},
     "output_type": "display_data"
    },
    {
     "name": "stdout",
     "output_type": "stream",
     "text": [
      "\n"
     ]
    },
    {
     "data": {
      "application/vnd.jupyter.widget-view+json": {
       "model_id": "1a57150752b94e439b74acc21fbdba6c",
       "version_major": 2,
       "version_minor": 0
      },
      "text/plain": [
       "HBox(children=(FloatProgress(value=0.0, max=16.0), HTML(value='')))"
      ]
     },
     "metadata": {},
     "output_type": "display_data"
    },
    {
     "name": "stdout",
     "output_type": "stream",
     "text": [
      "\n",
      "<S> stay thin . </S>\n",
      "assieds arrive parti drôle plaît plaît plaît plaît plaît </S>\n",
      "<S> who wants it ? </S>\n",
      "assieds arrive parti drôle plaît plaît plaît plaît plaît </S>\n",
      "Loss: 3.7163450717926025, Accuracy: 39.93163299560547, Test Loss: 3.599978446960449, Test Accuracy: 42.5882682800293\n",
      "14\n"
     ]
    },
    {
     "data": {
      "application/vnd.jupyter.widget-view+json": {
       "model_id": "962697ae5e03426bb3a9adb4611fa68e",
       "version_major": 2,
       "version_minor": 0
      },
      "text/plain": [
       "HBox(children=(FloatProgress(value=0.0, max=63.0), HTML(value='')))"
      ]
     },
     "metadata": {},
     "output_type": "display_data"
    },
    {
     "name": "stdout",
     "output_type": "stream",
     "text": [
      "\n"
     ]
    },
    {
     "data": {
      "application/vnd.jupyter.widget-view+json": {
       "model_id": "4c0061c65acd4fe5bffe91487d11f760",
       "version_major": 2,
       "version_minor": 0
      },
      "text/plain": [
       "HBox(children=(FloatProgress(value=0.0, max=16.0), HTML(value='')))"
      ]
     },
     "metadata": {},
     "output_type": "display_data"
    },
    {
     "name": "stdout",
     "output_type": "stream",
     "text": [
      "\n",
      "<S> stay thin . </S>\n",
      "assieds arrive parti drôle plaît plaît plaît plaît </S> </S>\n",
      "<S> who wants it ? </S>\n",
      "assieds arrive parti drôle plaît plaît plaît plaît </S> </S>\n",
      "Loss: 3.595386505126953, Accuracy: 42.16128921508789, Test Loss: 3.5039515495300293, Test Accuracy: 44.735103607177734\n",
      "15\n"
     ]
    },
    {
     "data": {
      "application/vnd.jupyter.widget-view+json": {
       "model_id": "b9d9063665ef48568eeed5de8e210b27",
       "version_major": 2,
       "version_minor": 0
      },
      "text/plain": [
       "HBox(children=(FloatProgress(value=0.0, max=63.0), HTML(value='')))"
      ]
     },
     "metadata": {},
     "output_type": "display_data"
    },
    {
     "name": "stdout",
     "output_type": "stream",
     "text": [
      "\n"
     ]
    },
    {
     "data": {
      "application/vnd.jupyter.widget-view+json": {
       "model_id": "1f566e0feb954352af5743acbb82d0b9",
       "version_major": 2,
       "version_minor": 0
      },
      "text/plain": [
       "HBox(children=(FloatProgress(value=0.0, max=16.0), HTML(value='')))"
      ]
     },
     "metadata": {},
     "output_type": "display_data"
    },
    {
     "name": "stdout",
     "output_type": "stream",
     "text": [
      "\n",
      "<S> stay thin . </S>\n",
      "assieds arrive parti drôle amour plaît plaît plaît </S> </S>\n",
      "<S> who wants it ? </S>\n",
      "assieds arrive parti drôle amour plaît plaît plaît </S> </S>\n",
      "Loss: 3.4817588329315186, Accuracy: 44.268882751464844, Test Loss: 3.413292646408081, Test Accuracy: 46.75160217285156\n",
      "16\n"
     ]
    },
    {
     "data": {
      "application/vnd.jupyter.widget-view+json": {
       "model_id": "45f41130dd444f7aa985e67bf8db235a",
       "version_major": 2,
       "version_minor": 0
      },
      "text/plain": [
       "HBox(children=(FloatProgress(value=0.0, max=63.0), HTML(value='')))"
      ]
     },
     "metadata": {},
     "output_type": "display_data"
    },
    {
     "name": "stdout",
     "output_type": "stream",
     "text": [
      "\n"
     ]
    },
    {
     "data": {
      "application/vnd.jupyter.widget-view+json": {
       "model_id": "c388c6d04cd74043a8ac7155e2bad7dc",
       "version_major": 2,
       "version_minor": 0
      },
      "text/plain": [
       "HBox(children=(FloatProgress(value=0.0, max=16.0), HTML(value='')))"
      ]
     },
     "metadata": {},
     "output_type": "display_data"
    },
    {
     "name": "stdout",
     "output_type": "stream",
     "text": [
      "\n",
      "<S> stay thin . </S>\n",
      "assieds arrive parti drôle nourriture plaît plaît plaît </S> </S>\n",
      "<S> who wants it ? </S>\n",
      "assieds arrive parti drôle nourriture plaît plaît plaît </S> </S>\n",
      "Loss: 3.3749420642852783, Accuracy: 46.23793029785156, Test Loss: 3.3276431560516357, Test Accuracy: 48.60983657836914\n",
      "17\n"
     ]
    },
    {
     "data": {
      "application/vnd.jupyter.widget-view+json": {
       "model_id": "5f2ed602f9f04cf1a2db596217104b71",
       "version_major": 2,
       "version_minor": 0
      },
      "text/plain": [
       "HBox(children=(FloatProgress(value=0.0, max=63.0), HTML(value='')))"
      ]
     },
     "metadata": {},
     "output_type": "display_data"
    },
    {
     "name": "stdout",
     "output_type": "stream",
     "text": [
      "\n"
     ]
    },
    {
     "data": {
      "application/vnd.jupyter.widget-view+json": {
       "model_id": "47d1663d5de14827a310f22bf2682aba",
       "version_major": 2,
       "version_minor": 0
      },
      "text/plain": [
       "HBox(children=(FloatProgress(value=0.0, max=16.0), HTML(value='')))"
      ]
     },
     "metadata": {},
     "output_type": "display_data"
    },
    {
     "name": "stdout",
     "output_type": "stream",
     "text": [
      "\n",
      "<S> stay thin . </S>\n",
      "assieds arrive grave drôle nourriture plaît plaît </S> </S> </S>\n",
      "<S> who wants it ? </S>\n",
      "assieds arrive grave drôle nourriture plaît plaît </S> </S> </S>\n",
      "Loss: 3.274399518966675, Accuracy: 48.04943084716797, Test Loss: 3.246574878692627, Test Accuracy: 50.303871154785156\n",
      "18\n"
     ]
    },
    {
     "data": {
      "application/vnd.jupyter.widget-view+json": {
       "model_id": "b23f55f1c8344ebc96012283a307c991",
       "version_major": 2,
       "version_minor": 0
      },
      "text/plain": [
       "HBox(children=(FloatProgress(value=0.0, max=63.0), HTML(value='')))"
      ]
     },
     "metadata": {},
     "output_type": "display_data"
    },
    {
     "name": "stdout",
     "output_type": "stream",
     "text": [
      "\n"
     ]
    },
    {
     "data": {
      "application/vnd.jupyter.widget-view+json": {
       "model_id": "8320910ac51240868abe70973f906a40",
       "version_major": 2,
       "version_minor": 0
      },
      "text/plain": [
       "HBox(children=(FloatProgress(value=0.0, max=16.0), HTML(value='')))"
      ]
     },
     "metadata": {},
     "output_type": "display_data"
    },
    {
     "name": "stdout",
     "output_type": "stream",
     "text": [
      "\n",
      "<S> stay thin . </S>\n",
      "assieds vas bête drôle nourriture plaît plaît </S> </S> </S>\n",
      "<S> who wants it ? </S>\n",
      "assieds vas bête drôle nourriture plaît plaît </S> </S> </S>\n",
      "Loss: 3.1796412467956543, Accuracy: 49.73362731933594, Test Loss: 3.169856071472168, Test Accuracy: 51.86057662963867\n",
      "19\n"
     ]
    },
    {
     "data": {
      "application/vnd.jupyter.widget-view+json": {
       "model_id": "5193261a2f254f45abd722037bb688ac",
       "version_major": 2,
       "version_minor": 0
      },
      "text/plain": [
       "HBox(children=(FloatProgress(value=0.0, max=63.0), HTML(value='')))"
      ]
     },
     "metadata": {},
     "output_type": "display_data"
    },
    {
     "name": "stdout",
     "output_type": "stream",
     "text": [
      "\n"
     ]
    },
    {
     "data": {
      "application/vnd.jupyter.widget-view+json": {
       "model_id": "11532aafeea0478992163057fad78b1d",
       "version_major": 2,
       "version_minor": 0
      },
      "text/plain": [
       "HBox(children=(FloatProgress(value=0.0, max=16.0), HTML(value='')))"
      ]
     },
     "metadata": {},
     "output_type": "display_data"
    },
    {
     "name": "stdout",
     "output_type": "stream",
     "text": [
      "\n",
      "<S> stay thin . </S>\n",
      "assieds vas bête drôle nourriture nourriture plait </S> </S> </S>\n",
      "<S> who wants it ? </S>\n",
      "assieds vas bête drôle nourriture nourriture plait </S> </S> </S>\n",
      "Loss: 3.0902152061462402, Accuracy: 51.29365158081055, Test Loss: 3.0971386432647705, Test Accuracy: 53.298431396484375\n",
      "20\n"
     ]
    },
    {
     "data": {
      "application/vnd.jupyter.widget-view+json": {
       "model_id": "666ff4320ade405ea00b08dc63a224de",
       "version_major": 2,
       "version_minor": 0
      },
      "text/plain": [
       "HBox(children=(FloatProgress(value=0.0, max=63.0), HTML(value='')))"
      ]
     },
     "metadata": {},
     "output_type": "display_data"
    },
    {
     "name": "stdout",
     "output_type": "stream",
     "text": [
      "\n"
     ]
    },
    {
     "data": {
      "application/vnd.jupyter.widget-view+json": {
       "model_id": "30a96f7ac8c54ad2b0462975b4707e2f",
       "version_major": 2,
       "version_minor": 0
      },
      "text/plain": [
       "HBox(children=(FloatProgress(value=0.0, max=16.0), HTML(value='')))"
      ]
     },
     "metadata": {},
     "output_type": "display_data"
    },
    {
     "name": "stdout",
     "output_type": "stream",
     "text": [
      "\n",
      "<S> stay thin . </S>\n",
      "assieds bientôt bête drôle nourriture nourriture plait plait </S> </S>\n",
      "<S> who wants it ? </S>\n",
      "assieds bientôt bête drôle nourriture nourriture plait plait </S> </S>\n",
      "Loss: 3.005713939666748, Accuracy: 52.739627838134766, Test Loss: 3.0281755924224854, Test Accuracy: 54.6300163269043\n",
      "21\n"
     ]
    },
    {
     "data": {
      "application/vnd.jupyter.widget-view+json": {
       "model_id": "a000afc9d6a242d78bb2c4a0ad085f2d",
       "version_major": 2,
       "version_minor": 0
      },
      "text/plain": [
       "HBox(children=(FloatProgress(value=0.0, max=63.0), HTML(value='')))"
      ]
     },
     "metadata": {},
     "output_type": "display_data"
    },
    {
     "name": "stdout",
     "output_type": "stream",
     "text": [
      "\n"
     ]
    },
    {
     "data": {
      "application/vnd.jupyter.widget-view+json": {
       "model_id": "78a8c4bafa444d51a1500fab5b14c4a2",
       "version_major": 2,
       "version_minor": 0
      },
      "text/plain": [
       "HBox(children=(FloatProgress(value=0.0, max=16.0), HTML(value='')))"
      ]
     },
     "metadata": {},
     "output_type": "display_data"
    },
    {
     "name": "stdout",
     "output_type": "stream",
     "text": [
      "\n",
      "<S> stay thin . </S>\n",
      "assieds bientôt bête tour nourriture plait plait plait </S> </S>\n",
      "<S> who wants it ? </S>\n",
      "assieds bientôt bête tour nourriture plait plait plait </S> </S>\n",
      "Loss: 2.9257092475891113, Accuracy: 54.08846664428711, Test Loss: 2.9625353813171387, Test Accuracy: 55.87467575073242\n",
      "22\n"
     ]
    },
    {
     "data": {
      "application/vnd.jupyter.widget-view+json": {
       "model_id": "1d0ae8bd64884137b652e546371c4556",
       "version_major": 2,
       "version_minor": 0
      },
      "text/plain": [
       "HBox(children=(FloatProgress(value=0.0, max=63.0), HTML(value='')))"
      ]
     },
     "metadata": {},
     "output_type": "display_data"
    },
    {
     "ename": "KeyboardInterrupt",
     "evalue": "",
     "output_type": "error",
     "traceback": [
      "\u001b[1;31m---------------------------------------------------------------------------\u001b[0m",
      "\u001b[1;31mKeyboardInterrupt\u001b[0m                         Traceback (most recent call last)",
      "\u001b[1;32m<ipython-input-11-40abf1248f4b>\u001b[0m in \u001b[0;36m<module>\u001b[1;34m\u001b[0m\n\u001b[0;32m     32\u001b[0m         \u001b[0my\u001b[0m\u001b[1;33m,\u001b[0m\u001b[0my_mask\u001b[0m \u001b[1;33m=\u001b[0m \u001b[0mtf\u001b[0m\u001b[1;33m.\u001b[0m\u001b[0msplit\u001b[0m\u001b[1;33m(\u001b[0m\u001b[0my\u001b[0m\u001b[1;33m,\u001b[0m\u001b[1;36m2\u001b[0m\u001b[1;33m,\u001b[0m\u001b[0maxis\u001b[0m\u001b[1;33m=\u001b[0m\u001b[1;36m1\u001b[0m\u001b[1;33m)\u001b[0m\u001b[1;33m\u001b[0m\u001b[1;33m\u001b[0m\u001b[0m\n\u001b[0;32m     33\u001b[0m \u001b[1;33m\u001b[0m\u001b[0m\n\u001b[1;32m---> 34\u001b[1;33m         \u001b[0mloss\u001b[0m\u001b[1;33m,\u001b[0m\u001b[0mlabel\u001b[0m\u001b[1;33m,\u001b[0m\u001b[0mprediction\u001b[0m \u001b[1;33m=\u001b[0m \u001b[0mcompute_apply_gradients\u001b[0m\u001b[1;33m(\u001b[0m\u001b[0mmodel\u001b[0m\u001b[1;33m,\u001b[0m\u001b[0mloss_f\u001b[0m\u001b[1;33m,\u001b[0m\u001b[0mx\u001b[0m\u001b[1;33m,\u001b[0m\u001b[0mx_mask\u001b[0m\u001b[1;33m,\u001b[0m\u001b[0my\u001b[0m\u001b[1;33m,\u001b[0m\u001b[0my_mask\u001b[0m\u001b[1;33m,\u001b[0m\u001b[0moptimizer\u001b[0m\u001b[1;33m)\u001b[0m\u001b[1;33m\u001b[0m\u001b[1;33m\u001b[0m\u001b[0m\n\u001b[0m\u001b[0;32m     35\u001b[0m \u001b[1;33m\u001b[0m\u001b[0m\n\u001b[0;32m     36\u001b[0m         \u001b[0mtrain_loss\u001b[0m\u001b[1;33m(\u001b[0m\u001b[0mloss\u001b[0m\u001b[1;33m)\u001b[0m\u001b[1;33m\u001b[0m\u001b[1;33m\u001b[0m\u001b[0m\n",
      "\u001b[1;32m<ipython-input-8-3cfa920ef0ac>\u001b[0m in \u001b[0;36mcompute_apply_gradients\u001b[1;34m(model, loss_f, x, x_mask, y, y_mask, optimizer)\u001b[0m\n\u001b[0;32m     40\u001b[0m         \u001b[0mloss\u001b[0m\u001b[1;33m,\u001b[0m\u001b[0mlabel\u001b[0m\u001b[1;33m,\u001b[0m\u001b[0mprediction\u001b[0m\u001b[1;33m=\u001b[0m \u001b[0mcompute_loss\u001b[0m\u001b[1;33m(\u001b[0m\u001b[0mmodel\u001b[0m\u001b[1;33m,\u001b[0m \u001b[0mloss_f\u001b[0m\u001b[1;33m,\u001b[0m\u001b[0mx\u001b[0m\u001b[1;33m,\u001b[0m\u001b[0mx_mask\u001b[0m\u001b[1;33m,\u001b[0m\u001b[0my\u001b[0m\u001b[1;33m,\u001b[0m\u001b[0my_mask\u001b[0m\u001b[1;33m)\u001b[0m\u001b[1;33m\u001b[0m\u001b[1;33m\u001b[0m\u001b[0m\n\u001b[0;32m     41\u001b[0m \u001b[1;33m\u001b[0m\u001b[0m\n\u001b[1;32m---> 42\u001b[1;33m     \u001b[0mgradients\u001b[0m \u001b[1;33m=\u001b[0m \u001b[0mtape\u001b[0m\u001b[1;33m.\u001b[0m\u001b[0mgradient\u001b[0m\u001b[1;33m(\u001b[0m\u001b[0mloss\u001b[0m\u001b[1;33m,\u001b[0m \u001b[0mmodel\u001b[0m\u001b[1;33m.\u001b[0m\u001b[0mtrainable_variables\u001b[0m\u001b[1;33m)\u001b[0m\u001b[1;33m\u001b[0m\u001b[1;33m\u001b[0m\u001b[0m\n\u001b[0m\u001b[0;32m     43\u001b[0m \u001b[1;33m\u001b[0m\u001b[0m\n\u001b[0;32m     44\u001b[0m     \u001b[0moptimizer\u001b[0m\u001b[1;33m.\u001b[0m\u001b[0mapply_gradients\u001b[0m\u001b[1;33m(\u001b[0m\u001b[0mzip\u001b[0m\u001b[1;33m(\u001b[0m\u001b[0mgradients\u001b[0m\u001b[1;33m,\u001b[0m \u001b[0mmodel\u001b[0m\u001b[1;33m.\u001b[0m\u001b[0mtrainable_variables\u001b[0m\u001b[1;33m)\u001b[0m\u001b[1;33m)\u001b[0m\u001b[1;33m\u001b[0m\u001b[1;33m\u001b[0m\u001b[0m\n",
      "\u001b[1;32mc:\\users\\antoi\\appdata\\local\\programs\\python\\python37\\lib\\site-packages\\tensorflow\\python\\eager\\backprop.py\u001b[0m in \u001b[0;36mgradient\u001b[1;34m(self, target, sources, output_gradients, unconnected_gradients)\u001b[0m\n\u001b[0;32m   1071\u001b[0m         \u001b[0moutput_gradients\u001b[0m\u001b[1;33m=\u001b[0m\u001b[0moutput_gradients\u001b[0m\u001b[1;33m,\u001b[0m\u001b[1;33m\u001b[0m\u001b[1;33m\u001b[0m\u001b[0m\n\u001b[0;32m   1072\u001b[0m         \u001b[0msources_raw\u001b[0m\u001b[1;33m=\u001b[0m\u001b[0mflat_sources_raw\u001b[0m\u001b[1;33m,\u001b[0m\u001b[1;33m\u001b[0m\u001b[1;33m\u001b[0m\u001b[0m\n\u001b[1;32m-> 1073\u001b[1;33m         unconnected_gradients=unconnected_gradients)\n\u001b[0m\u001b[0;32m   1074\u001b[0m \u001b[1;33m\u001b[0m\u001b[0m\n\u001b[0;32m   1075\u001b[0m     \u001b[1;32mif\u001b[0m \u001b[1;32mnot\u001b[0m \u001b[0mself\u001b[0m\u001b[1;33m.\u001b[0m\u001b[0m_persistent\u001b[0m\u001b[1;33m:\u001b[0m\u001b[1;33m\u001b[0m\u001b[1;33m\u001b[0m\u001b[0m\n",
      "\u001b[1;32mc:\\users\\antoi\\appdata\\local\\programs\\python\\python37\\lib\\site-packages\\tensorflow\\python\\eager\\imperative_grad.py\u001b[0m in \u001b[0;36mimperative_grad\u001b[1;34m(tape, target, sources, output_gradients, sources_raw, unconnected_gradients)\u001b[0m\n\u001b[0;32m     75\u001b[0m       \u001b[0moutput_gradients\u001b[0m\u001b[1;33m,\u001b[0m\u001b[1;33m\u001b[0m\u001b[1;33m\u001b[0m\u001b[0m\n\u001b[0;32m     76\u001b[0m       \u001b[0msources_raw\u001b[0m\u001b[1;33m,\u001b[0m\u001b[1;33m\u001b[0m\u001b[1;33m\u001b[0m\u001b[0m\n\u001b[1;32m---> 77\u001b[1;33m       compat.as_str(unconnected_gradients.value))\n\u001b[0m",
      "\u001b[1;32mc:\\users\\antoi\\appdata\\local\\programs\\python\\python37\\lib\\site-packages\\tensorflow\\python\\eager\\function.py\u001b[0m in \u001b[0;36m_backward_function_wrapper\u001b[1;34m(*args)\u001b[0m\n\u001b[0;32m   1264\u001b[0m           \u001b[1;32mbreak\u001b[0m\u001b[1;33m\u001b[0m\u001b[1;33m\u001b[0m\u001b[0m\n\u001b[0;32m   1265\u001b[0m       return backward._call_flat(  # pylint: disable=protected-access\n\u001b[1;32m-> 1266\u001b[1;33m           processed_args, remapped_captures)\n\u001b[0m\u001b[0;32m   1267\u001b[0m \u001b[1;33m\u001b[0m\u001b[0m\n\u001b[0;32m   1268\u001b[0m     \u001b[1;32mreturn\u001b[0m \u001b[0m_backward_function_wrapper\u001b[0m\u001b[1;33m,\u001b[0m \u001b[0mrecorded_outputs\u001b[0m\u001b[1;33m\u001b[0m\u001b[1;33m\u001b[0m\u001b[0m\n",
      "\u001b[1;32mc:\\users\\antoi\\appdata\\local\\programs\\python\\python37\\lib\\site-packages\\tensorflow\\python\\eager\\function.py\u001b[0m in \u001b[0;36m_call_flat\u001b[1;34m(self, args, captured_inputs, cancellation_manager)\u001b[0m\n\u001b[0;32m   1922\u001b[0m       \u001b[1;31m# No tape is watching; skip to running the function.\u001b[0m\u001b[1;33m\u001b[0m\u001b[1;33m\u001b[0m\u001b[1;33m\u001b[0m\u001b[0m\n\u001b[0;32m   1923\u001b[0m       return self._build_call_outputs(self._inference_function.call(\n\u001b[1;32m-> 1924\u001b[1;33m           ctx, args, cancellation_manager=cancellation_manager))\n\u001b[0m\u001b[0;32m   1925\u001b[0m     forward_backward = self._select_forward_and_backward_functions(\n\u001b[0;32m   1926\u001b[0m         \u001b[0margs\u001b[0m\u001b[1;33m,\u001b[0m\u001b[1;33m\u001b[0m\u001b[1;33m\u001b[0m\u001b[0m\n",
      "\u001b[1;32mc:\\users\\antoi\\appdata\\local\\programs\\python\\python37\\lib\\site-packages\\tensorflow\\python\\eager\\function.py\u001b[0m in \u001b[0;36mcall\u001b[1;34m(self, ctx, args, cancellation_manager)\u001b[0m\n\u001b[0;32m    548\u001b[0m               \u001b[0minputs\u001b[0m\u001b[1;33m=\u001b[0m\u001b[0margs\u001b[0m\u001b[1;33m,\u001b[0m\u001b[1;33m\u001b[0m\u001b[1;33m\u001b[0m\u001b[0m\n\u001b[0;32m    549\u001b[0m               \u001b[0mattrs\u001b[0m\u001b[1;33m=\u001b[0m\u001b[0mattrs\u001b[0m\u001b[1;33m,\u001b[0m\u001b[1;33m\u001b[0m\u001b[1;33m\u001b[0m\u001b[0m\n\u001b[1;32m--> 550\u001b[1;33m               ctx=ctx)\n\u001b[0m\u001b[0;32m    551\u001b[0m         \u001b[1;32melse\u001b[0m\u001b[1;33m:\u001b[0m\u001b[1;33m\u001b[0m\u001b[1;33m\u001b[0m\u001b[0m\n\u001b[0;32m    552\u001b[0m           outputs = execute.execute_with_cancellation(\n",
      "\u001b[1;32mc:\\users\\antoi\\appdata\\local\\programs\\python\\python37\\lib\\site-packages\\tensorflow\\python\\eager\\execute.py\u001b[0m in \u001b[0;36mquick_execute\u001b[1;34m(op_name, num_outputs, inputs, attrs, ctx, name)\u001b[0m\n\u001b[0;32m     58\u001b[0m     \u001b[0mctx\u001b[0m\u001b[1;33m.\u001b[0m\u001b[0mensure_initialized\u001b[0m\u001b[1;33m(\u001b[0m\u001b[1;33m)\u001b[0m\u001b[1;33m\u001b[0m\u001b[1;33m\u001b[0m\u001b[0m\n\u001b[0;32m     59\u001b[0m     tensors = pywrap_tfe.TFE_Py_Execute(ctx._handle, device_name, op_name,\n\u001b[1;32m---> 60\u001b[1;33m                                         inputs, attrs, num_outputs)\n\u001b[0m\u001b[0;32m     61\u001b[0m   \u001b[1;32mexcept\u001b[0m \u001b[0mcore\u001b[0m\u001b[1;33m.\u001b[0m\u001b[0m_NotOkStatusException\u001b[0m \u001b[1;32mas\u001b[0m \u001b[0me\u001b[0m\u001b[1;33m:\u001b[0m\u001b[1;33m\u001b[0m\u001b[1;33m\u001b[0m\u001b[0m\n\u001b[0;32m     62\u001b[0m     \u001b[1;32mif\u001b[0m \u001b[0mname\u001b[0m \u001b[1;32mis\u001b[0m \u001b[1;32mnot\u001b[0m \u001b[1;32mNone\u001b[0m\u001b[1;33m:\u001b[0m\u001b[1;33m\u001b[0m\u001b[1;33m\u001b[0m\u001b[0m\n",
      "\u001b[1;31mKeyboardInterrupt\u001b[0m: "
     ]
    }
   ],
   "source": [
    "from tqdm.notebook import tqdm\n",
    "import os\n",
    "\n",
    "train_loss = tf.keras.metrics.Mean(name='train_loss')\n",
    "train_accuracy = tf.keras.metrics.CategoricalAccuracy(name='train_accuracy')\n",
    "\n",
    "test_loss = tf.keras.metrics.Mean(name='test_loss')\n",
    "test_accuracy = tf.keras.metrics.CategoricalAccuracy(name='test_accuracy')\n",
    "\n",
    "loss_f = tf.keras.losses.CategoricalCrossentropy()\n",
    "    \n",
    "optimizer = tf.keras.optimizers.RMSprop(learning_rate=0.0001)\n",
    "loss_f = tf.keras.losses.CategoricalCrossentropy()\n",
    "epochs = 30\n",
    "\n",
    "checkpoint_dir = 'training_checkpoints'\n",
    "checkpoint_prefix = os.path.join(checkpoint_dir, \"ckpt\")\n",
    "checkpoint = tf.train.Checkpoint(optimizer=optimizer,\n",
    "                                 model=model)\n",
    "\n",
    "tr_loss = []\n",
    "te_loss = []\n",
    "tr_acc = []\n",
    "te_acc = []\n",
    "    \n",
    "for epoch in range(1, epochs + 1):\n",
    "    print(epoch,flush=True,)\n",
    "\n",
    "    for x,y in tqdm(train_data):\n",
    "        \n",
    "        x,x_mask = tf.split(x,2,axis=1)\n",
    "        y,y_mask = tf.split(y,2,axis=1)\n",
    "        \n",
    "        loss,label,prediction = compute_apply_gradients(model,loss_f,x,x_mask,y,y_mask,optimizer)\n",
    "\n",
    "        train_loss(loss)\n",
    "        train_accuracy(label, prediction)\n",
    "        \n",
    "    for x,y in tqdm(test_data):\n",
    "\n",
    "        x,x_mask = tf.split(x,2,axis=1)\n",
    "        y,y_mask = tf.split(y,2,axis=1)\n",
    "\n",
    "        loss,label,prediction = compute_loss(model,loss_f,x,x_mask,y,y_mask)\n",
    "        test_loss(loss)\n",
    "        test_accuracy(label, prediction)\n",
    "                \n",
    "    print(\" \".join(ang[1000]))\n",
    "    print(\" \".join(model.generate(word_map_fr[\"<S>\"],word_map_fr[\"</S>\"],ang_tok[1000,:],ang_mask[1000,:])))\n",
    "    \n",
    "    print(\" \".join(ang[5000]))\n",
    "    print(\" \".join(model.generate(word_map_fr[\"<S>\"],word_map_fr[\"</S>\"],ang_tok[5000,:],ang_mask[5000,:])))\n",
    "    \n",
    "    print(\n",
    "    f'Loss: {train_loss.result()}, '\n",
    "    f'Accuracy: {train_accuracy.result() * 100}, '\n",
    "    f'Test Loss: {test_loss.result()}, '\n",
    "    f'Test Accuracy: {test_accuracy.result() * 100}')\n",
    "    \n",
    "    tr_loss.append(train_loss.result())\n",
    "    te_loss.append(test_loss.result())\n",
    "    tr_acc.append(train_accuracy.result())\n",
    "    te_acc.append(test_accuracy.result())\n",
    "    if epoch % 2 == 0:\n",
    "        checkpoint.save(file_prefix=checkpoint_prefix)\n",
    "\n"
   ]
  },
  {
   "cell_type": "code",
   "execution_count": 12,
   "metadata": {},
   "outputs": [
    {
     "data": {
      "image/png": "[encoded data removed]",
      "text/plain": [
       "<Figure size 432x288 with 1 Axes>"
      ]
     },
     "metadata": {
      "needs_background": "light"
     },
     "output_type": "display_data"
    },
    {
     "data": {
      "image/png": "[encoded data removed]",
      "text/plain": [
       "<Figure size 432x288 with 1 Axes>"
      ]
     },
     "metadata": {
      "needs_background": "light"
     },
     "output_type": "display_data"
    }
   ],
   "source": [
    "import matplotlib.pyplot as plt\n",
    "%matplotlib inline\n",
    "\n",
    "plt.plot(tr_loss, c=\"orange\")\n",
    "plt.plot(te_loss, c=\"blue\")\n",
    "plt.title(\"Loss\")\n",
    "plt.show()\n",
    "\n",
    "plt.clf()\n",
    "plt.plot(tr_acc, c=\"orange\")\n",
    "plt.plot(te_acc, c=\"red\")\n",
    "plt.title(\"Accuracy\")\n",
    "plt.show()"
   ]
  },
  {
   "cell_type": "code",
   "execution_count": null,
   "metadata": {},
   "outputs": [],
   "source": []
  }
 ],
 "metadata": {
  "kernelspec": {
   "display_name": "Python 3",
   "language": "python",
   "name": "python3"
  },
  "language_info": {
   "codemirror_mode": {
    "name": "ipython",
    "version": 3
   },
   "file_extension": ".py",
   "mimetype": "text/x-python",
   "name": "python",
   "nbconvert_exporter": "python",
   "pygments_lexer": "ipython3",
   "version": "3.7.2"
  }
 },
 "nbformat": 4,
 "nbformat_minor": 2
}
