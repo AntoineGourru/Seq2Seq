{
 "cells": [
  {
   "cell_type": "markdown",
   "metadata": {},
   "source": [
    "### Reading Data and Tokenization"
   ]
  },
  {
   "cell_type": "code",
   "execution_count": 1,
   "metadata": {},
   "outputs": [],
   "source": [
    "import pandas as pd\n",
    "\n",
    "data = pd.read_csv(\"data/fra.txt\",sep='\\t',header= None)\n",
    "ang = list(data[0])\n",
    "fra = list(data[1])\n",
    "\n",
    "from spacy.lang.en import English\n",
    "from spacy.lang.fr import French\n",
    "\n",
    "nlp = English()\n",
    "tokenizer = nlp.Defaults.create_tokenizer(nlp)\n",
    "nlp_f = French()\n",
    "tokenizer_f = nlp_f.Defaults.create_tokenizer(nlp_f)\n",
    "\n",
    "ang = [['<S>'] + [token.string.strip() for token in tokenizer(text.lower())] + ['</S>'] for text in ang][:10000]\n",
    "\n",
    "fra = [['<S>'] + [token.string.strip() for token in tokenizer_f(text.lower())] + ['</S>'] for text in fra][:10000]"
   ]
  },
  {
   "cell_type": "markdown",
   "metadata": {},
   "source": [
    "### Padding, word2id and shifting"
   ]
  },
  {
   "cell_type": "code",
   "execution_count": 2,
   "metadata": {},
   "outputs": [],
   "source": [
    "from gensim.models import Word2Vec\n",
    "import numpy as np\n",
    "\n",
    "EMBEDDING_SIZE = 120\n",
    "w2v = Word2Vec(ang, size=EMBEDDING_SIZE, window=10, min_count=1, negative=10, workers=10)\n",
    "word_map = {}\n",
    "word_map[\"<PAD>\"] = 0\n",
    "word_vectors = [np.zeros((EMBEDDING_SIZE,))]\n",
    "for i, w in enumerate([w for w in w2v.wv.vocab]):\n",
    "    word_map[w] = i+1\n",
    "    word_vectors.append(w2v.wv[w])\n",
    "word_vectors = np.vstack(word_vectors)\n",
    "\n",
    "w2v = Word2Vec(fra, size=EMBEDDING_SIZE, window=10, min_count=1, negative=10, workers=10)\n",
    "word_map_fr = {}\n",
    "word_map_fr[\"<PAD>\"] = 0\n",
    "word_vectors_fr = [np.zeros((EMBEDDING_SIZE,))]\n",
    "for i, w in enumerate([w for w in w2v.wv.vocab]):\n",
    "    word_map_fr[w] = i+1\n",
    "    word_vectors_fr.append(w2v.wv[w])\n",
    "word_vectors_fr = np.vstack(word_vectors_fr)\n",
    "i2w = dict(zip([*word_map_fr.values()],[*word_map_fr]))\n"
   ]
  },
  {
   "cell_type": "code",
   "execution_count": 3,
   "metadata": {},
   "outputs": [],
   "source": [
    "def pad(a,shift = False):\n",
    "    shape = len(a)\n",
    "    max_s = max([len(x) for x in a])\n",
    "    if shift:\n",
    "        token = np.zeros((shape,max_s+1),dtype = np.int)\n",
    "        mask  =  np.zeros((shape,max_s+1),dtype = np.int)\n",
    "        for i,o in enumerate(a):\n",
    "            token[i,:len(o)] = o\n",
    "            mask[i,:len(o)] = 1\n",
    "        return token[:,1:],mask[:,1:],max_s       \n",
    "    else:            \n",
    "        token = np.zeros((shape,max_s),dtype = np.int)\n",
    "        mask  =  np.zeros((shape,max_s),dtype = np.int)\n",
    "        for i,o in enumerate(a):\n",
    "            token[i,:len(o)] = o\n",
    "            mask[i,:len(o)] = 1\n",
    "        return token,mask,max_s \n",
    "    \n",
    "ang_tok,ang_mask,ang_pl = pad([[word_map[w] for w in text] for text in ang])\n",
    "fra_tok,fra_mask,fr_pl = pad([[word_map_fr[w] for w in text] for text in fra])\n",
    "fra_toks_s,fra_mask_s,_ = pad([[word_map_fr[w] for w in text] for text in fra],shift = True)"
   ]
  },
  {
   "cell_type": "markdown",
   "metadata": {},
   "source": [
    "### Seq2Seq model"
   ]
  },
  {
   "cell_type": "code",
   "execution_count": 4,
   "metadata": {},
   "outputs": [],
   "source": [
    "from tensorflow.keras import layers,Model\n",
    "from tensorflow.keras.initializers import Constant\n",
    "import tensorflow as tf\n",
    "\n",
    "class S2S(tf.keras.Model):\n",
    "    def __init__(self,Win,Wout,i2w):\n",
    "      \n",
    "        super(S2S, self).__init__() \n",
    "        \n",
    "        self.nv_in = Win.shape[0]\n",
    "        self.r = Win.shape[1]\n",
    "        self.nv_out = Wout.shape[0]\n",
    "        \n",
    "        self.i2w = i2w\n",
    "        \n",
    "        self.Win = layers.Embedding(self.nv_in,self.r)\n",
    "        self.Win.build((None, ))\n",
    "        self.Win.set_weights([Win])\n",
    "        self.Win.trainable = True\n",
    "\n",
    "        self.Wout = layers.Embedding(self.nv_out,self.r)\n",
    "        self.Wout.build((None, ))\n",
    "        self.Wout.set_weights([Wout])\n",
    "        self.Wout.trainable = True\n",
    "        \n",
    "        self.encoder = layers.GRU(self.r, return_sequences=True, return_state=True,dropout=0.2)\n",
    "        \n",
    "        self.decoder = layers.GRU(self.r, return_sequences=True, return_state=True,dropout=0.2)\n",
    "        \n",
    "        self.mapper = layers.Dense(self.nv_out,activation = \"softmax\")\n",
    "\n",
    "        self.attention = layers.Attention()\n",
    "\n",
    "        self.H = layers.Dense(self.r*2,activation = \"tanh\")\n",
    "\n",
    "        self.W = layers.Dense(self.r,activation = \"linear\")\n",
    "\n",
    "    @tf.function\n",
    "    def encode(self,x,x_mask):\n",
    "        \n",
    "        x = self.Win(x)\n",
    "        x_mask = tf.cast(x_mask,dtype=bool)\n",
    "    \n",
    "        hidden_seq,hidden_last = self.encoder(x,mask=x_mask)\n",
    "\n",
    "        return hidden_seq,hidden_last\n",
    "    \n",
    "    @tf.function\n",
    "    def decode(self,encoder_seq,encoder_mask,decoder_last,context_last,x_out,attention = False):\n",
    "\n",
    "        x_out = self.Wout(x_out)\n",
    "\n",
    "        input_decoder = tf.concat([x_out,context_last],2)\n",
    "\n",
    "        encoder_mask = tf.cast(encoder_mask,dtype=bool)\n",
    "\n",
    "        _,decoder_last = self.decoder(input_decoder, initial_state=decoder_last)\n",
    "\n",
    "        decoder_last = tf.expand_dims(decoder_last,1)\n",
    "        \n",
    "        query = self.W(decoder_last)\n",
    "\n",
    "        key = encoder_seq \n",
    "        value = encoder_seq \n",
    "            \n",
    "        context_vector = self.attention([query,key,value],mask = [None,encoder_mask])\n",
    "\n",
    "        probs = self.mapper(self.H(tf.concat([decoder_last,context_vector],2)))\n",
    "\n",
    "        decoder_last = tf.squeeze(decoder_last)\n",
    "        \n",
    "        if attention == True:\n",
    "            decoder_last = tf.expand_dims(decoder_last,axis = 0)\n",
    "            scores = tf.matmul(query, key, transpose_b=True)\n",
    "            weights = tf.nn.softmax(scores)\n",
    "            return weights,decoder_last,context_vector\n",
    "        else:\n",
    "            return probs,decoder_last,context_vector\n",
    "\n",
    " \n",
    "    def att_wei(self,x,x_mask,x_out,x_out_mask):\n",
    "        \n",
    "        x = tf.expand_dims(x,axis=0)\n",
    "        x_mask = tf.expand_dims(x_mask,axis=0)\n",
    "        x_out = tf.expand_dims(x_out,axis=0)\n",
    "        x_out_mask = tf.expand_dims(x_out_mask,axis=0)\n",
    "        \n",
    "        mask = tf.cast(tf.matmul(tf.transpose(x_out_mask),x_mask),dtype=tf.bool)\n",
    "\n",
    "        encoder_seq,hidden_last = model.encode(x,x_mask)\n",
    "        context_last = tf.zeros([x.shape[0],model.r])\n",
    "        context_last = tf.expand_dims(context_last,1)\n",
    "\n",
    "        input_0 = tf.gather(x_out, [0], axis=1)\n",
    "        \n",
    "        \n",
    "        weights,hidden_last,context_last = model.decode(encoder_seq,x_mask,hidden_last,context_last,input_0,attention = True)\n",
    "        pro = []\n",
    "        \n",
    "        pro.append(weights)\n",
    "\n",
    "        for t in range(1,x_out.shape[1]):\n",
    "            input_0 = tf.gather(x_out, [t], axis=1)\n",
    "            weights,hidden_last,context_last = model.decode(encoder_seq,x_mask,hidden_last,context_last,input_0,attention = True)\n",
    "            pro.append(weights)\n",
    "\n",
    "        pro = tf.concat(pro,1)\n",
    "        \n",
    "        out = tf.boolean_mask(tf.squeeze(pro),mask)\n",
    "        \n",
    "        out = tf.reshape(out,(tf.reduce_sum(x_out_mask),tf.reduce_sum(x_mask)))\n",
    "                \n",
    "        return out.numpy() \n",
    "\n",
    "\n",
    "    \n",
    "    def generate(self,start_emb,x,x_mask):\n",
    "        aout = []\n",
    "        \n",
    "        x = tf.expand_dims(x,axis=0)\n",
    "        x_mask = tf.expand_dims(x_mask,axis=0)\n",
    "\n",
    "        encoder_seq,hidden_last = model.encode(x,x_mask)\n",
    "        context_last = tf.zeros([x.shape[0],model.r])\n",
    "        context_last = tf.expand_dims(context_last,1)\n",
    "       \n",
    "        input_0 = tf.expand_dims(tf.expand_dims(start_emb,axis=0),axis=0)\n",
    "\n",
    "        probs,hidden_last,context_last = model.decode(encoder_seq,x_mask,hidden_last,context_last,input_0)\n",
    "\n",
    "        val,argval = tf.nn.top_k(tf.squeeze(probs), k=2, sorted=True, name=None)\n",
    "        x_out = argval.numpy()[0]\n",
    "        aout.append(self.i2w[x_out])\n",
    "    \n",
    "        for t in range(10):\n",
    "            hidden_last = tf.expand_dims(hidden_last,axis=0)\n",
    "            input_0 = tf.expand_dims(tf.expand_dims(x_out,axis=0),axis=0)\n",
    "            probs,hidden_last,context_last = model.decode(encoder_seq,x_mask,hidden_last,context_last,input_0)\n",
    "            \n",
    "            val,argval = tf.nn.top_k(tf.squeeze(probs), k=2, sorted=True, name=None)\n",
    "            x_out = argval.numpy()[0]\n",
    "            aout.append(self.i2w[x_out])\n",
    "                \n",
    "        return aout"
   ]
  },
  {
   "cell_type": "code",
   "execution_count": 5,
   "metadata": {},
   "outputs": [],
   "source": [
    "import numpy as np\n",
    "import matplotlib\n",
    "import matplotlib.pyplot as plt\n",
    "# sphinx_gallery_thumbnail_number = 2\n",
    "\n",
    "def plot_weight(vegetables,farmers,harvest):\n",
    "    \n",
    "    vegetables = vegetables[1:]\n",
    "    harvest = harvest[0:-1,:]\n",
    "    \n",
    "    \n",
    "    fig, ax = plt.subplots(figsize=(10, 10))\n",
    "    im = ax.imshow(harvest)\n",
    "\n",
    "    # We want to show all ticks...\n",
    "    ax.set_xticks(np.arange(len(farmers)))\n",
    "    ax.set_yticks(np.arange(len(vegetables)))\n",
    "    # ... and label them with the respective list entries\n",
    "    ax.set_xticklabels(farmers)\n",
    "    ax.set_yticklabels(vegetables)\n",
    "\n",
    "    # Rotate the tick labels and set their alignment.\n",
    "    plt.setp(ax.get_xticklabels(), rotation=45, ha=\"right\",\n",
    "             rotation_mode=\"anchor\")\n",
    "\n",
    "    # Loop over data dimensions and create text annotations.\n",
    "    for i in range(len(vegetables)):\n",
    "        for j in range(len(farmers)):\n",
    "            text = ax.text(j, i, harvest[i, j],\n",
    "                           ha=\"center\", va=\"center\", color=\"w\")\n",
    "\n",
    "    ax.set_title(\"Attention\")\n",
    "    fig.tight_layout()\n",
    "    plt.show()"
   ]
  },
  {
   "cell_type": "markdown",
   "metadata": {},
   "source": [
    "### Function for optim"
   ]
  },
  {
   "cell_type": "code",
   "execution_count": 6,
   "metadata": {},
   "outputs": [],
   "source": [
    "@tf.function\n",
    "def compute_loss(model,loss_f,x,x_mask,x_out,y_onehot,y_mask):\n",
    "    pro = []\n",
    "    \n",
    "    encoder_seq,hidden_last = model.encode(x,x_mask)\n",
    "    context_last = tf.zeros([x.shape[0],model.r])\n",
    "    context_last = tf.expand_dims(context_last,1)\n",
    "    \n",
    "    input_0 = tf.gather(x_out, [0], axis=1)\n",
    "    probs,hidden_last,context_last = model.decode(encoder_seq,x_mask,hidden_last,context_last,input_0)\n",
    "\n",
    "    pro.append(probs)\n",
    "\n",
    "    for t in range(1,y_onehot.shape[1]):\n",
    "        input_0 = tf.gather(x_out, [t], axis=1)\n",
    "        probs,hidden_last,context_last = model.decode(encoder_seq,x_mask,hidden_last,context_last,input_0)\n",
    "        pro.append(probs)\n",
    "        \n",
    "    pro = tf.concat(pro,1)\n",
    "\n",
    "    y_true= tf.boolean_mask(y_onehot,y_mask)\n",
    "    y_pred = tf.boolean_mask(pro,y_mask)\n",
    "    \n",
    "    \n",
    "    return loss_f(y_true,y_pred),y_true,y_pred\n",
    "\n",
    "\n",
    "@tf.function\n",
    "def compute_apply_gradients(model,loss_f,x,x_mask,x_out,y_onehot,y_mask,optimizer):\n",
    "    with tf.GradientTape() as tape:\n",
    "        \n",
    "        loss,label,prediction = compute_loss(model,loss_f,x,x_mask,x_out,y_onehot,y_mask)\n",
    "        \n",
    "    gradients = tape.gradient(loss, model.trainable_variables)\n",
    "    \n",
    "    optimizer.apply_gradients(zip(gradients, model.trainable_variables))\n",
    "\n",
    "    return loss,label,prediction\n",
    "\n",
    "\n"
   ]
  },
  {
   "cell_type": "markdown",
   "metadata": {},
   "source": [
    "### Split"
   ]
  },
  {
   "cell_type": "code",
   "execution_count": 7,
   "metadata": {},
   "outputs": [
    {
     "name": "stdout",
     "output_type": "stream",
     "text": [
      "(10000, 18)\n",
      "(10000, 45)\n"
     ]
    }
   ],
   "source": [
    "batch_size = 128\n",
    "\n",
    "X = np.hstack([ang_tok,ang_mask])\n",
    "print(X.shape)\n",
    "Y = np.hstack([fra_tok,fra_toks_s,fra_mask_s])\n",
    "print(Y.shape)\n",
    "from sklearn.model_selection import train_test_split\n",
    "\n",
    "X_train, X_test, Y_train, Y_test = train_test_split(X, Y, train_size=0.80, random_state=101)\n",
    "\n",
    "\n",
    "train_data = tf.data.Dataset.from_tensor_slices((X_train,Y_train)).batch(batch_size)\n",
    "\n",
    "test_data = tf.data.Dataset.from_tensor_slices((X_test,Y_test)).batch(batch_size)\n",
    "\n"
   ]
  },
  {
   "cell_type": "markdown",
   "metadata": {},
   "source": [
    "### Model declaration and Losses"
   ]
  },
  {
   "cell_type": "code",
   "execution_count": 8,
   "metadata": {},
   "outputs": [],
   "source": [
    "from tqdm.notebook import tqdm\n",
    "import os\n",
    "\n",
    "model = S2S(word_vectors,word_vectors_fr,i2w)\n",
    "\n",
    "epochs = 70\n",
    "\n",
    "optimizer = tf.keras.optimizers.Adam()\n",
    "\n",
    "checkpoint_dir = 'training_checkpoints'\n",
    "checkpoint_prefix = os.path.join(checkpoint_dir, \"ckpt\")\n",
    "checkpoint = tf.train.Checkpoint(optimizer=optimizer,\n",
    "                                 model=model)\n",
    "\n",
    "\n",
    "train_loss = tf.keras.metrics.Mean(name='train_loss')\n",
    "train_accuracy = tf.keras.metrics.CategoricalAccuracy(name='train_accuracy')\n",
    "\n",
    "test_loss = tf.keras.metrics.Mean(name='test_loss')\n",
    "test_accuracy = tf.keras.metrics.CategoricalAccuracy(name='test_accuracy')\n",
    "\n",
    "loss_f = tf.keras.losses.CategoricalCrossentropy()\n",
    "\n",
    "tr_loss = []\n",
    "te_loss = []\n",
    "tr_acc = []\n",
    "te_acc = []\n",
    " \n"
   ]
  },
  {
   "cell_type": "markdown",
   "metadata": {},
   "source": [
    "### Optim"
   ]
  },
  {
   "cell_type": "code",
   "execution_count": null,
   "metadata": {},
   "outputs": [
    {
     "name": "stdout",
     "output_type": "stream",
     "text": [
      "1\n"
     ]
    },
    {
     "data": {
      "application/vnd.jupyter.widget-view+json": {
       "model_id": "61a1fa762cda4ba3b43cd90154672171",
       "version_major": 2,
       "version_minor": 0
      },
      "text/plain": [
       "HBox(children=(IntProgress(value=0, max=63), HTML(value='')))"
      ]
     },
     "metadata": {},
     "output_type": "display_data"
    },
    {
     "name": "stdout",
     "output_type": "stream",
     "text": [
      "\n"
     ]
    },
    {
     "data": {
      "application/vnd.jupyter.widget-view+json": {
       "model_id": "867ffbd1c50b442992b0ecd3221f6299",
       "version_major": 2,
       "version_minor": 0
      },
      "text/plain": [
       "HBox(children=(IntProgress(value=0, max=16), HTML(value='')))"
      ]
     },
     "metadata": {},
     "output_type": "display_data"
    },
    {
     "name": "stdout",
     "output_type": "stream",
     "text": [
      "\n",
      "Loss: 5.355288505554199, Accuracy: 17.88262176513672, Test Loss: 4.604523658752441, Test Accuracy: 21.380617141723633\n",
      "2\n"
     ]
    },
    {
     "data": {
      "application/vnd.jupyter.widget-view+json": {
       "model_id": "328b8d9d1b6e43fb9ce144bb69fefcc7",
       "version_major": 2,
       "version_minor": 0
      },
      "text/plain": [
       "HBox(children=(IntProgress(value=0, max=63), HTML(value='')))"
      ]
     },
     "metadata": {},
     "output_type": "display_data"
    },
    {
     "name": "stdout",
     "output_type": "stream",
     "text": [
      "\n"
     ]
    },
    {
     "data": {
      "application/vnd.jupyter.widget-view+json": {
       "model_id": "f1da487bb15e4ba4847a3e280559bea0",
       "version_major": 2,
       "version_minor": 0
      },
      "text/plain": [
       "HBox(children=(IntProgress(value=0, max=16), HTML(value='')))"
      ]
     },
     "metadata": {},
     "output_type": "display_data"
    },
    {
     "name": "stdout",
     "output_type": "stream",
     "text": [
      "\n",
      "Loss: 4.850320816040039, Accuracy: 22.660947799682617, Test Loss: 4.40574836730957, Test Accuracy: 26.996902465820312\n",
      "3\n"
     ]
    },
    {
     "data": {
      "application/vnd.jupyter.widget-view+json": {
       "model_id": "b8047585ba9544f1921bf8c4648c2e5f",
       "version_major": 2,
       "version_minor": 0
      },
      "text/plain": [
       "HBox(children=(IntProgress(value=0, max=63), HTML(value='')))"
      ]
     },
     "metadata": {},
     "output_type": "display_data"
    },
    {
     "name": "stdout",
     "output_type": "stream",
     "text": [
      "\n"
     ]
    },
    {
     "data": {
      "application/vnd.jupyter.widget-view+json": {
       "model_id": "b21f42f6f7f84f4a8ae3c7e51bda1060",
       "version_major": 2,
       "version_minor": 0
      },
      "text/plain": [
       "HBox(children=(IntProgress(value=0, max=16), HTML(value='')))"
      ]
     },
     "metadata": {},
     "output_type": "display_data"
    },
    {
     "name": "stdout",
     "output_type": "stream",
     "text": [
      "\n",
      "Loss: 4.554872035980225, Accuracy: 26.92559051513672, Test Loss: 4.248377323150635, Test Accuracy: 30.62775993347168\n",
      "4\n"
     ]
    },
    {
     "data": {
      "application/vnd.jupyter.widget-view+json": {
       "model_id": "d8051bc2e27d414da43bc1ef9a17fab2",
       "version_major": 2,
       "version_minor": 0
      },
      "text/plain": [
       "HBox(children=(IntProgress(value=0, max=63), HTML(value='')))"
      ]
     },
     "metadata": {},
     "output_type": "display_data"
    },
    {
     "name": "stdout",
     "output_type": "stream",
     "text": [
      "\n"
     ]
    },
    {
     "data": {
      "application/vnd.jupyter.widget-view+json": {
       "model_id": "e20741464f4a4491930357882a68df2b",
       "version_major": 2,
       "version_minor": 0
      },
      "text/plain": [
       "HBox(children=(IntProgress(value=0, max=16), HTML(value='')))"
      ]
     },
     "metadata": {},
     "output_type": "display_data"
    },
    {
     "name": "stdout",
     "output_type": "stream",
     "text": [
      "\n",
      "Loss: 4.351256370544434, Accuracy: 29.84136962890625, Test Loss: 4.135008335113525, Test Accuracy: 32.99190902709961\n",
      "5\n"
     ]
    },
    {
     "data": {
      "application/vnd.jupyter.widget-view+json": {
       "model_id": "5092c979fe96421e833823ec45bfd755",
       "version_major": 2,
       "version_minor": 0
      },
      "text/plain": [
       "HBox(children=(IntProgress(value=0, max=63), HTML(value='')))"
      ]
     },
     "metadata": {},
     "output_type": "display_data"
    },
    {
     "name": "stdout",
     "output_type": "stream",
     "text": [
      "\n"
     ]
    },
    {
     "data": {
      "application/vnd.jupyter.widget-view+json": {
       "model_id": "cbc2898a53884938a5ff6f3b58aebd48",
       "version_major": 2,
       "version_minor": 0
      },
      "text/plain": [
       "HBox(children=(IntProgress(value=0, max=16), HTML(value='')))"
      ]
     },
     "metadata": {},
     "output_type": "display_data"
    },
    {
     "name": "stdout",
     "output_type": "stream",
     "text": [
      "\n",
      "Loss: 4.197807312011719, Accuracy: 31.74472427368164, Test Loss: 4.039917945861816, Test Accuracy: 34.4930305480957\n",
      "6\n"
     ]
    },
    {
     "data": {
      "application/vnd.jupyter.widget-view+json": {
       "model_id": "56eca99d441c44d4b67e9caca296854f",
       "version_major": 2,
       "version_minor": 0
      },
      "text/plain": [
       "HBox(children=(IntProgress(value=0, max=63), HTML(value='')))"
      ]
     },
     "metadata": {},
     "output_type": "display_data"
    },
    {
     "name": "stdout",
     "output_type": "stream",
     "text": [
      "\n"
     ]
    },
    {
     "data": {
      "application/vnd.jupyter.widget-view+json": {
       "model_id": "86788c9ae2be48b78e595529e0d080e8",
       "version_major": 2,
       "version_minor": 0
      },
      "text/plain": [
       "HBox(children=(IntProgress(value=0, max=16), HTML(value='')))"
      ]
     },
     "metadata": {},
     "output_type": "display_data"
    },
    {
     "name": "stdout",
     "output_type": "stream",
     "text": [
      "\n",
      "Loss: 4.065399169921875, Accuracy: 33.12103271484375, Test Loss: 3.9515655040740967, Test Accuracy: 35.703216552734375\n",
      "7\n"
     ]
    },
    {
     "data": {
      "application/vnd.jupyter.widget-view+json": {
       "model_id": "ce5d3dff709d42339ea31adf9cf6e306",
       "version_major": 2,
       "version_minor": 0
      },
      "text/plain": [
       "HBox(children=(IntProgress(value=0, max=63), HTML(value='')))"
      ]
     },
     "metadata": {},
     "output_type": "display_data"
    },
    {
     "name": "stdout",
     "output_type": "stream",
     "text": [
      "\n"
     ]
    },
    {
     "data": {
      "application/vnd.jupyter.widget-view+json": {
       "model_id": "58966a61009b4ebe90a924d6f1efcade",
       "version_major": 2,
       "version_minor": 0
      },
      "text/plain": [
       "HBox(children=(IntProgress(value=0, max=16), HTML(value='')))"
      ]
     },
     "metadata": {},
     "output_type": "display_data"
    },
    {
     "name": "stdout",
     "output_type": "stream",
     "text": [
      "\n",
      "Loss: 3.9390881061553955, Accuracy: 34.64201736450195, Test Loss: 3.856215238571167, Test Accuracy: 37.29188919067383\n",
      "8\n"
     ]
    },
    {
     "data": {
      "application/vnd.jupyter.widget-view+json": {
       "model_id": "9cdcdad8902a4ff5bd0eea37383088ac",
       "version_major": 2,
       "version_minor": 0
      },
      "text/plain": [
       "HBox(children=(IntProgress(value=0, max=63), HTML(value='')))"
      ]
     },
     "metadata": {},
     "output_type": "display_data"
    },
    {
     "name": "stdout",
     "output_type": "stream",
     "text": [
      "\n"
     ]
    },
    {
     "data": {
      "application/vnd.jupyter.widget-view+json": {
       "model_id": "1555c00db2e94cf7af6c76d2b3fc7d0d",
       "version_major": 2,
       "version_minor": 0
      },
      "text/plain": [
       "HBox(children=(IntProgress(value=0, max=16), HTML(value='')))"
      ]
     },
     "metadata": {},
     "output_type": "display_data"
    },
    {
     "name": "stdout",
     "output_type": "stream",
     "text": [
      "\n",
      "Loss: 3.817171812057495, Accuracy: 36.410221099853516, Test Loss: 3.766502618789673, Test Accuracy: 38.92881774902344\n",
      "9\n"
     ]
    },
    {
     "data": {
      "application/vnd.jupyter.widget-view+json": {
       "model_id": "f99f3a6044bf4a5180a83238662c5914",
       "version_major": 2,
       "version_minor": 0
      },
      "text/plain": [
       "HBox(children=(IntProgress(value=0, max=63), HTML(value='')))"
      ]
     },
     "metadata": {},
     "output_type": "display_data"
    },
    {
     "name": "stdout",
     "output_type": "stream",
     "text": [
      "\n"
     ]
    },
    {
     "data": {
      "application/vnd.jupyter.widget-view+json": {
       "model_id": "41610f5a9116480c8ddddc70fd80a51d",
       "version_major": 2,
       "version_minor": 0
      },
      "text/plain": [
       "HBox(children=(IntProgress(value=0, max=16), HTML(value='')))"
      ]
     },
     "metadata": {},
     "output_type": "display_data"
    },
    {
     "name": "stdout",
     "output_type": "stream",
     "text": [
      "\n",
      "Loss: 3.7015304565429688, Accuracy: 38.043888092041016, Test Loss: 3.680968761444092, Test Accuracy: 40.39995193481445\n",
      "10\n"
     ]
    },
    {
     "data": {
      "application/vnd.jupyter.widget-view+json": {
       "model_id": "4ee6e2f6f791427599172438807d6ca6",
       "version_major": 2,
       "version_minor": 0
      },
      "text/plain": [
       "HBox(children=(IntProgress(value=0, max=63), HTML(value='')))"
      ]
     },
     "metadata": {},
     "output_type": "display_data"
    },
    {
     "name": "stdout",
     "output_type": "stream",
     "text": [
      "\n"
     ]
    },
    {
     "data": {
      "application/vnd.jupyter.widget-view+json": {
       "model_id": "e5a8e4179a2042e5a883f161203caa79",
       "version_major": 2,
       "version_minor": 0
      },
      "text/plain": [
       "HBox(children=(IntProgress(value=0, max=16), HTML(value='')))"
      ]
     },
     "metadata": {},
     "output_type": "display_data"
    },
    {
     "name": "stdout",
     "output_type": "stream",
     "text": [
      "\n",
      "Loss: 3.5931477546691895, Accuracy: 39.52971267700195, Test Loss: 3.602032423019409, Test Accuracy: 41.72663116455078\n",
      "<S> stay thin . </S>\n",
      "soyez ont lacet de aller . </S> </S> </S> </S> </S>\n",
      "<S> who wants it ? </S>\n",
      "est - vous - vous ? </S> ? </S> ? </S>\n"
     ]
    },
    {
     "data": {
      "image/png": "[encoded data removed]",
      "text/plain": [
       "<Figure size 720x720 with 1 Axes>"
      ]
     },
     "metadata": {
      "needs_background": "light"
     },
     "output_type": "display_data"
    },
    {
     "name": "stdout",
     "output_type": "stream",
     "text": [
      "11\n"
     ]
    },
    {
     "data": {
      "application/vnd.jupyter.widget-view+json": {
       "model_id": "c47e338a9cbc4e8ba0cc1b07e7a0bc74",
       "version_major": 2,
       "version_minor": 0
      },
      "text/plain": [
       "HBox(children=(IntProgress(value=0, max=63), HTML(value='')))"
      ]
     },
     "metadata": {},
     "output_type": "display_data"
    },
    {
     "name": "stdout",
     "output_type": "stream",
     "text": [
      "\n"
     ]
    },
    {
     "data": {
      "application/vnd.jupyter.widget-view+json": {
       "model_id": "4136b689f47d48458ddd59d45827a898",
       "version_major": 2,
       "version_minor": 0
      },
      "text/plain": [
       "HBox(children=(IntProgress(value=0, max=16), HTML(value='')))"
      ]
     },
     "metadata": {},
     "output_type": "display_data"
    },
    {
     "name": "stdout",
     "output_type": "stream",
     "text": [
      "\n",
      "Loss: 3.4918060302734375, Accuracy: 40.90428924560547, Test Loss: 3.5298776626586914, Test Accuracy: 42.94042205810547\n",
      "12\n"
     ]
    },
    {
     "data": {
      "application/vnd.jupyter.widget-view+json": {
       "model_id": "2df79bb55c1c496e8be349a26e371afb",
       "version_major": 2,
       "version_minor": 0
      },
      "text/plain": [
       "HBox(children=(IntProgress(value=0, max=63), HTML(value='')))"
      ]
     },
     "metadata": {},
     "output_type": "display_data"
    },
    {
     "name": "stdout",
     "output_type": "stream",
     "text": [
      "\n"
     ]
    },
    {
     "data": {
      "application/vnd.jupyter.widget-view+json": {
       "model_id": "418bac3d1fbd40ef94c4c1605ee47470",
       "version_major": 2,
       "version_minor": 0
      },
      "text/plain": [
       "HBox(children=(IntProgress(value=0, max=16), HTML(value='')))"
      ]
     },
     "metadata": {},
     "output_type": "display_data"
    },
    {
     "name": "stdout",
     "output_type": "stream",
     "text": [
      "\n",
      "Loss: 3.3955655097961426, Accuracy: 42.208187103271484, Test Loss: 3.4659674167633057, Test Accuracy: 44.040138244628906\n",
      "13\n"
     ]
    },
    {
     "data": {
      "application/vnd.jupyter.widget-view+json": {
       "model_id": "9509c30520ef4fe39f2bbe3ce43b13d3",
       "version_major": 2,
       "version_minor": 0
      },
      "text/plain": [
       "HBox(children=(IntProgress(value=0, max=63), HTML(value='')))"
      ]
     },
     "metadata": {},
     "output_type": "display_data"
    },
    {
     "name": "stdout",
     "output_type": "stream",
     "text": [
      "\n"
     ]
    },
    {
     "data": {
      "application/vnd.jupyter.widget-view+json": {
       "model_id": "db17539ed5e2445ba6f5e20e939d32f3",
       "version_major": 2,
       "version_minor": 0
      },
      "text/plain": [
       "HBox(children=(IntProgress(value=0, max=16), HTML(value='')))"
      ]
     },
     "metadata": {},
     "output_type": "display_data"
    },
    {
     "name": "stdout",
     "output_type": "stream",
     "text": [
      "\n",
      "Loss: 3.304351568222046, Accuracy: 43.4240608215332, Test Loss: 3.40444278717041, Test Accuracy: 45.05210876464844\n",
      "14\n"
     ]
    },
    {
     "data": {
      "application/vnd.jupyter.widget-view+json": {
       "model_id": "f20779b616254730b36917f8079119ab",
       "version_major": 2,
       "version_minor": 0
      },
      "text/plain": [
       "HBox(children=(IntProgress(value=0, max=63), HTML(value='')))"
      ]
     },
     "metadata": {},
     "output_type": "display_data"
    },
    {
     "name": "stdout",
     "output_type": "stream",
     "text": [
      "\n"
     ]
    },
    {
     "data": {
      "application/vnd.jupyter.widget-view+json": {
       "model_id": "ee942a5a7dc2481baf74926642464b84",
       "version_major": 2,
       "version_minor": 0
      },
      "text/plain": [
       "HBox(children=(IntProgress(value=0, max=16), HTML(value='')))"
      ]
     },
     "metadata": {},
     "output_type": "display_data"
    },
    {
     "name": "stdout",
     "output_type": "stream",
     "text": [
      "\n",
      "Loss: 3.2180657386779785, Accuracy: 44.56430435180664, Test Loss: 3.3472554683685303, Test Accuracy: 45.977298736572266\n",
      "15\n"
     ]
    },
    {
     "data": {
      "application/vnd.jupyter.widget-view+json": {
       "model_id": "87c3af53a20b4051a2fff9324b86078d",
       "version_major": 2,
       "version_minor": 0
      },
      "text/plain": [
       "HBox(children=(IntProgress(value=0, max=63), HTML(value='')))"
      ]
     },
     "metadata": {},
     "output_type": "display_data"
    },
    {
     "name": "stdout",
     "output_type": "stream",
     "text": [
      "\n"
     ]
    },
    {
     "data": {
      "application/vnd.jupyter.widget-view+json": {
       "model_id": "ed1f80ce5b5f4cc7ad71145c8ee012ce",
       "version_major": 2,
       "version_minor": 0
      },
      "text/plain": [
       "HBox(children=(IntProgress(value=0, max=16), HTML(value='')))"
      ]
     },
     "metadata": {},
     "output_type": "display_data"
    },
    {
     "name": "stdout",
     "output_type": "stream",
     "text": [
      "\n",
      "Loss: 3.1358258724212646, Accuracy: 45.64576721191406, Test Loss: 3.29341983795166, Test Accuracy: 46.821598052978516\n",
      "16\n"
     ]
    },
    {
     "data": {
      "application/vnd.jupyter.widget-view+json": {
       "model_id": "a8e9797355694e49ae5f8ddee9c57040",
       "version_major": 2,
       "version_minor": 0
      },
      "text/plain": [
       "HBox(children=(IntProgress(value=0, max=63), HTML(value='')))"
      ]
     },
     "metadata": {},
     "output_type": "display_data"
    },
    {
     "name": "stdout",
     "output_type": "stream",
     "text": [
      "\n"
     ]
    },
    {
     "data": {
      "application/vnd.jupyter.widget-view+json": {
       "model_id": "ad3e4e6c4547400f892890cb2237df3b",
       "version_major": 2,
       "version_minor": 0
      },
      "text/plain": [
       "HBox(children=(IntProgress(value=0, max=16), HTML(value='')))"
      ]
     },
     "metadata": {},
     "output_type": "display_data"
    },
    {
     "name": "stdout",
     "output_type": "stream",
     "text": [
      "\n",
      "Loss: 3.0577054023742676, Accuracy: 46.65212631225586, Test Loss: 3.2442831993103027, Test Accuracy: 47.56789016723633\n",
      "17\n"
     ]
    },
    {
     "data": {
      "application/vnd.jupyter.widget-view+json": {
       "model_id": "3c7239dd934443888ef43f920cb2bc6b",
       "version_major": 2,
       "version_minor": 0
      },
      "text/plain": [
       "HBox(children=(IntProgress(value=0, max=63), HTML(value='')))"
      ]
     },
     "metadata": {},
     "output_type": "display_data"
    },
    {
     "name": "stdout",
     "output_type": "stream",
     "text": [
      "\n"
     ]
    },
    {
     "data": {
      "application/vnd.jupyter.widget-view+json": {
       "model_id": "34544a96771c4ade8b007579a7dec895",
       "version_major": 2,
       "version_minor": 0
      },
      "text/plain": [
       "HBox(children=(IntProgress(value=0, max=16), HTML(value='')))"
      ]
     },
     "metadata": {},
     "output_type": "display_data"
    },
    {
     "name": "stdout",
     "output_type": "stream",
     "text": [
      "\n",
      "Loss: 2.983309268951416, Accuracy: 47.60145568847656, Test Loss: 3.198397397994995, Test Accuracy: 48.2694206237793\n",
      "18\n"
     ]
    },
    {
     "data": {
      "application/vnd.jupyter.widget-view+json": {
       "model_id": "edd55f30c25947b3a242e0be7359a813",
       "version_major": 2,
       "version_minor": 0
      },
      "text/plain": [
       "HBox(children=(IntProgress(value=0, max=63), HTML(value='')))"
      ]
     },
     "metadata": {},
     "output_type": "display_data"
    },
    {
     "name": "stdout",
     "output_type": "stream",
     "text": [
      "\n"
     ]
    },
    {
     "data": {
      "application/vnd.jupyter.widget-view+json": {
       "model_id": "5cd3746e802f49d1a4bf4f567e485d74",
       "version_major": 2,
       "version_minor": 0
      },
      "text/plain": [
       "HBox(children=(IntProgress(value=0, max=16), HTML(value='')))"
      ]
     },
     "metadata": {},
     "output_type": "display_data"
    },
    {
     "name": "stdout",
     "output_type": "stream",
     "text": [
      "\n",
      "Loss: 2.912687063217163, Accuracy: 48.507564544677734, Test Loss: 3.154548406600952, Test Accuracy: 48.94847106933594\n",
      "19\n"
     ]
    },
    {
     "data": {
      "application/vnd.jupyter.widget-view+json": {
       "model_id": "ed42b3ea2cd04d79bd020bfb70739d1a",
       "version_major": 2,
       "version_minor": 0
      },
      "text/plain": [
       "HBox(children=(IntProgress(value=0, max=63), HTML(value='')))"
      ]
     },
     "metadata": {},
     "output_type": "display_data"
    },
    {
     "name": "stdout",
     "output_type": "stream",
     "text": [
      "\n"
     ]
    },
    {
     "data": {
      "application/vnd.jupyter.widget-view+json": {
       "model_id": "87da56a40cfc46949ccd86398ac068ec",
       "version_major": 2,
       "version_minor": 0
      },
      "text/plain": [
       "HBox(children=(IntProgress(value=0, max=16), HTML(value='')))"
      ]
     },
     "metadata": {},
     "output_type": "display_data"
    },
    {
     "name": "stdout",
     "output_type": "stream",
     "text": [
      "\n",
      "Loss: 2.8452913761138916, Accuracy: 49.37263488769531, Test Loss: 3.11354660987854, Test Accuracy: 49.59183120727539\n",
      "20\n"
     ]
    },
    {
     "data": {
      "application/vnd.jupyter.widget-view+json": {
       "model_id": "7a9236d438184af69dc0720c05e821dd",
       "version_major": 2,
       "version_minor": 0
      },
      "text/plain": [
       "HBox(children=(IntProgress(value=0, max=63), HTML(value='')))"
      ]
     },
     "metadata": {},
     "output_type": "display_data"
    },
    {
     "name": "stdout",
     "output_type": "stream",
     "text": [
      "\n"
     ]
    },
    {
     "data": {
      "application/vnd.jupyter.widget-view+json": {
       "model_id": "2a03c3259aba472889fb4798a7514e20",
       "version_major": 2,
       "version_minor": 0
      },
      "text/plain": [
       "HBox(children=(IntProgress(value=0, max=16), HTML(value='')))"
      ]
     },
     "metadata": {},
     "output_type": "display_data"
    },
    {
     "name": "stdout",
     "output_type": "stream",
     "text": [
      "\n",
      "Loss: 2.7801601886749268, Accuracy: 50.217689514160156, Test Loss: 3.0751492977142334, Test Accuracy: 50.18505859375\n",
      "<S> stay thin . </S>\n",
      "reste doucement ! </S> </S> sourcils ! </S> </S> </S> </S>\n",
      "<S> who wants it ? </S>\n",
      "qui est en t de l' aller ? </S> ? </S>\n"
     ]
    },
    {
     "data": {
      "image/png": "[encoded data removed]",
      "text/plain": [
       "<Figure size 720x720 with 1 Axes>"
      ]
     },
     "metadata": {
      "needs_background": "light"
     },
     "output_type": "display_data"
    },
    {
     "name": "stdout",
     "output_type": "stream",
     "text": [
      "21\n"
     ]
    },
    {
     "data": {
      "application/vnd.jupyter.widget-view+json": {
       "model_id": "1c2525c7080e4e268294063c3de2ab51",
       "version_major": 2,
       "version_minor": 0
      },
      "text/plain": [
       "HBox(children=(IntProgress(value=0, max=63), HTML(value='')))"
      ]
     },
     "metadata": {},
     "output_type": "display_data"
    },
    {
     "name": "stdout",
     "output_type": "stream",
     "text": [
      "\n"
     ]
    },
    {
     "data": {
      "application/vnd.jupyter.widget-view+json": {
       "model_id": "f6843c1c01cf4535aa849738744eae23",
       "version_major": 2,
       "version_minor": 0
      },
      "text/plain": [
       "HBox(children=(IntProgress(value=0, max=16), HTML(value='')))"
      ]
     },
     "metadata": {},
     "output_type": "display_data"
    },
    {
     "name": "stdout",
     "output_type": "stream",
     "text": [
      "\n",
      "Loss: 2.717229127883911, Accuracy: 51.04414749145508, Test Loss: 3.0392110347747803, Test Accuracy: 50.74924850463867\n",
      "22\n"
     ]
    },
    {
     "data": {
      "application/vnd.jupyter.widget-view+json": {
       "model_id": "d6552af795b148169c2d980e50e63a2f",
       "version_major": 2,
       "version_minor": 0
      },
      "text/plain": [
       "HBox(children=(IntProgress(value=0, max=63), HTML(value='')))"
      ]
     },
     "metadata": {},
     "output_type": "display_data"
    },
    {
     "name": "stdout",
     "output_type": "stream",
     "text": [
      "\n"
     ]
    },
    {
     "data": {
      "application/vnd.jupyter.widget-view+json": {
       "model_id": "d8258513edae4fe282c21d25afa9a6d2",
       "version_major": 2,
       "version_minor": 0
      },
      "text/plain": [
       "HBox(children=(IntProgress(value=0, max=16), HTML(value='')))"
      ]
     },
     "metadata": {},
     "output_type": "display_data"
    },
    {
     "name": "stdout",
     "output_type": "stream",
     "text": [
      "\n",
      "Loss: 2.6568684577941895, Accuracy: 51.8423957824707, Test Loss: 3.004610538482666, Test Accuracy: 51.30009460449219\n",
      "23\n"
     ]
    },
    {
     "data": {
      "application/vnd.jupyter.widget-view+json": {
       "model_id": "5d1cf711755544cbb5ee19ab5d4cf807",
       "version_major": 2,
       "version_minor": 0
      },
      "text/plain": [
       "HBox(children=(IntProgress(value=0, max=63), HTML(value='')))"
      ]
     },
     "metadata": {},
     "output_type": "display_data"
    },
    {
     "name": "stdout",
     "output_type": "stream",
     "text": [
      "\n"
     ]
    },
    {
     "data": {
      "application/vnd.jupyter.widget-view+json": {
       "model_id": "6a4e1c0524f64d70844ae59ff1caebc7",
       "version_major": 2,
       "version_minor": 0
      },
      "text/plain": [
       "HBox(children=(IntProgress(value=0, max=16), HTML(value='')))"
      ]
     },
     "metadata": {},
     "output_type": "display_data"
    },
    {
     "name": "stdout",
     "output_type": "stream",
     "text": [
      "\n",
      "Loss: 2.599088668823242, Accuracy: 52.6114387512207, Test Loss: 2.9723052978515625, Test Accuracy: 51.811283111572266\n",
      "24\n"
     ]
    },
    {
     "data": {
      "application/vnd.jupyter.widget-view+json": {
       "model_id": "e0b8318ce6054b9e9f2acb734887f582",
       "version_major": 2,
       "version_minor": 0
      },
      "text/plain": [
       "HBox(children=(IntProgress(value=0, max=63), HTML(value='')))"
      ]
     },
     "metadata": {},
     "output_type": "display_data"
    },
    {
     "name": "stdout",
     "output_type": "stream",
     "text": [
      "\n"
     ]
    },
    {
     "data": {
      "application/vnd.jupyter.widget-view+json": {
       "model_id": "409e9a66caf943a79b7e69fb91ff879d",
       "version_major": 2,
       "version_minor": 0
      },
      "text/plain": [
       "HBox(children=(IntProgress(value=0, max=16), HTML(value='')))"
      ]
     },
     "metadata": {},
     "output_type": "display_data"
    },
    {
     "name": "stdout",
     "output_type": "stream",
     "text": [
      "\n",
      "Loss: 2.543442726135254, Accuracy: 53.358604431152344, Test Loss: 2.9424970149993896, Test Accuracy: 52.279151916503906\n",
      "25\n"
     ]
    },
    {
     "data": {
      "application/vnd.jupyter.widget-view+json": {
       "model_id": "6397115b89d34a52bbf3a4099240acde",
       "version_major": 2,
       "version_minor": 0
      },
      "text/plain": [
       "HBox(children=(IntProgress(value=0, max=63), HTML(value='')))"
      ]
     },
     "metadata": {},
     "output_type": "display_data"
    },
    {
     "name": "stdout",
     "output_type": "stream",
     "text": [
      "\n"
     ]
    },
    {
     "data": {
      "application/vnd.jupyter.widget-view+json": {
       "model_id": "74c34ad5e13b4d2988b1cc9a1b684596",
       "version_major": 2,
       "version_minor": 0
      },
      "text/plain": [
       "HBox(children=(IntProgress(value=0, max=16), HTML(value='')))"
      ]
     },
     "metadata": {},
     "output_type": "display_data"
    },
    {
     "name": "stdout",
     "output_type": "stream",
     "text": [
      "\n",
      "Loss: 2.4898455142974854, Accuracy: 54.089874267578125, Test Loss: 2.9155285358428955, Test Accuracy: 52.711307525634766\n",
      "26\n"
     ]
    },
    {
     "data": {
      "application/vnd.jupyter.widget-view+json": {
       "model_id": "52ab65b253e64fd2ba99be21acd122bb",
       "version_major": 2,
       "version_minor": 0
      },
      "text/plain": [
       "HBox(children=(IntProgress(value=0, max=63), HTML(value='')))"
      ]
     },
     "metadata": {},
     "output_type": "display_data"
    },
    {
     "name": "stdout",
     "output_type": "stream",
     "text": [
      "\n"
     ]
    },
    {
     "data": {
      "application/vnd.jupyter.widget-view+json": {
       "model_id": "f1513b532f114413b638044d3b59ba7e",
       "version_major": 2,
       "version_minor": 0
      },
      "text/plain": [
       "HBox(children=(IntProgress(value=0, max=16), HTML(value='')))"
      ]
     },
     "metadata": {},
     "output_type": "display_data"
    },
    {
     "name": "stdout",
     "output_type": "stream",
     "text": [
      "\n",
      "Loss: 2.438547134399414, Accuracy: 54.7984733581543, Test Loss: 2.888129711151123, Test Accuracy: 53.162200927734375\n",
      "27\n"
     ]
    },
    {
     "data": {
      "application/vnd.jupyter.widget-view+json": {
       "model_id": "c70b3d3b4b0e43cfbb4443fafad0b098",
       "version_major": 2,
       "version_minor": 0
      },
      "text/plain": [
       "HBox(children=(IntProgress(value=0, max=63), HTML(value='')))"
      ]
     },
     "metadata": {},
     "output_type": "display_data"
    },
    {
     "name": "stdout",
     "output_type": "stream",
     "text": [
      "\n"
     ]
    },
    {
     "data": {
      "application/vnd.jupyter.widget-view+json": {
       "model_id": "647de7ff34f749c6a42b0722ccd29aff",
       "version_major": 2,
       "version_minor": 0
      },
      "text/plain": [
       "HBox(children=(IntProgress(value=0, max=16), HTML(value='')))"
      ]
     },
     "metadata": {},
     "output_type": "display_data"
    },
    {
     "name": "stdout",
     "output_type": "stream",
     "text": [
      "\n",
      "Loss: 2.3883934020996094, Accuracy: 55.50550079345703, Test Loss: 2.861950159072876, Test Accuracy: 53.59659194946289\n",
      "28\n"
     ]
    },
    {
     "data": {
      "application/vnd.jupyter.widget-view+json": {
       "model_id": "ab602c49233f49b5a17528dfa07e0155",
       "version_major": 2,
       "version_minor": 0
      },
      "text/plain": [
       "HBox(children=(IntProgress(value=0, max=63), HTML(value='')))"
      ]
     },
     "metadata": {},
     "output_type": "display_data"
    },
    {
     "name": "stdout",
     "output_type": "stream",
     "text": [
      "\n"
     ]
    },
    {
     "data": {
      "application/vnd.jupyter.widget-view+json": {
       "model_id": "5ba04b239ba94790a06beb98664eeb2d",
       "version_major": 2,
       "version_minor": 0
      },
      "text/plain": [
       "HBox(children=(IntProgress(value=0, max=16), HTML(value='')))"
      ]
     },
     "metadata": {},
     "output_type": "display_data"
    },
    {
     "name": "stdout",
     "output_type": "stream",
     "text": [
      "\n",
      "Loss: 2.3393776416778564, Accuracy: 56.212223052978516, Test Loss: 2.837190628051758, Test Accuracy: 54.00394821166992\n",
      "29\n"
     ]
    },
    {
     "data": {
      "application/vnd.jupyter.widget-view+json": {
       "model_id": "3b69dc9510544a3f9148b0d0f477c702",
       "version_major": 2,
       "version_minor": 0
      },
      "text/plain": [
       "HBox(children=(IntProgress(value=0, max=63), HTML(value='')))"
      ]
     },
     "metadata": {},
     "output_type": "display_data"
    },
    {
     "name": "stdout",
     "output_type": "stream",
     "text": [
      "\n"
     ]
    },
    {
     "data": {
      "application/vnd.jupyter.widget-view+json": {
       "model_id": "007d5c2489d6478f8d4c981cf7a83576",
       "version_major": 2,
       "version_minor": 0
      },
      "text/plain": [
       "HBox(children=(IntProgress(value=0, max=16), HTML(value='')))"
      ]
     },
     "metadata": {},
     "output_type": "display_data"
    },
    {
     "name": "stdout",
     "output_type": "stream",
     "text": [
      "\n",
      "Loss: 2.291682243347168, Accuracy: 56.90966796875, Test Loss: 2.8134536743164062, Test Accuracy: 54.39448928833008\n",
      "30\n"
     ]
    },
    {
     "data": {
      "application/vnd.jupyter.widget-view+json": {
       "model_id": "40ad61a7c23f4075914dfbccc18fa521",
       "version_major": 2,
       "version_minor": 0
      },
      "text/plain": [
       "HBox(children=(IntProgress(value=0, max=63), HTML(value='')))"
      ]
     },
     "metadata": {},
     "output_type": "display_data"
    },
    {
     "name": "stdout",
     "output_type": "stream",
     "text": [
      "\n"
     ]
    },
    {
     "data": {
      "application/vnd.jupyter.widget-view+json": {
       "model_id": "0859a097ab67406c861c1f981716bfbc",
       "version_major": 2,
       "version_minor": 0
      },
      "text/plain": [
       "HBox(children=(IntProgress(value=0, max=16), HTML(value='')))"
      ]
     },
     "metadata": {},
     "output_type": "display_data"
    },
    {
     "name": "stdout",
     "output_type": "stream",
     "text": [
      "\n",
      "Loss: 2.2454047203063965, Accuracy: 57.5998420715332, Test Loss: 2.7909798622131348, Test Accuracy: 54.76961135864258\n",
      "<S> stay thin . </S>\n",
      "reste doucement ! </S> ! </S> </S> chose . </S> .\n",
      "<S> who wants it ? </S>\n",
      "qui veut cela ? </S> ? </S> ? </S> ? </S>\n"
     ]
    },
    {
     "data": {
      "image/png": "[encoded data removed]",
      "text/plain": [
       "<Figure size 720x720 with 1 Axes>"
      ]
     },
     "metadata": {
      "needs_background": "light"
     },
     "output_type": "display_data"
    },
    {
     "name": "stdout",
     "output_type": "stream",
     "text": [
      "31\n"
     ]
    },
    {
     "data": {
      "application/vnd.jupyter.widget-view+json": {
       "model_id": "3eea7d484cd74f87a2df2bebea2760cf",
       "version_major": 2,
       "version_minor": 0
      },
      "text/plain": [
       "HBox(children=(IntProgress(value=0, max=63), HTML(value='')))"
      ]
     },
     "metadata": {},
     "output_type": "display_data"
    },
    {
     "name": "stdout",
     "output_type": "stream",
     "text": [
      "\n"
     ]
    },
    {
     "data": {
      "application/vnd.jupyter.widget-view+json": {
       "model_id": "a4313f81df354c708755348ebd22f6a1",
       "version_major": 2,
       "version_minor": 0
      },
      "text/plain": [
       "HBox(children=(IntProgress(value=0, max=16), HTML(value='')))"
      ]
     },
     "metadata": {},
     "output_type": "display_data"
    },
    {
     "name": "stdout",
     "output_type": "stream",
     "text": [
      "\n",
      "Loss: 2.200639247894287, Accuracy: 58.275108337402344, Test Loss: 2.7694826126098633, Test Accuracy: 55.13691329956055\n",
      "32\n"
     ]
    },
    {
     "data": {
      "application/vnd.jupyter.widget-view+json": {
       "model_id": "fc15f8c2e0ae4aa9b6409b45678163ec",
       "version_major": 2,
       "version_minor": 0
      },
      "text/plain": [
       "HBox(children=(IntProgress(value=0, max=63), HTML(value='')))"
      ]
     },
     "metadata": {},
     "output_type": "display_data"
    },
    {
     "name": "stdout",
     "output_type": "stream",
     "text": [
      "\n"
     ]
    },
    {
     "data": {
      "application/vnd.jupyter.widget-view+json": {
       "model_id": "94d78a98c8cc496abd9d2afc032727ec",
       "version_major": 2,
       "version_minor": 0
      },
      "text/plain": [
       "HBox(children=(IntProgress(value=0, max=16), HTML(value='')))"
      ]
     },
     "metadata": {},
     "output_type": "display_data"
    },
    {
     "name": "stdout",
     "output_type": "stream",
     "text": [
      "\n",
      "Loss: 2.157426357269287, Accuracy: 58.93214797973633, Test Loss: 2.7496426105499268, Test Accuracy: 55.4766845703125\n",
      "33\n"
     ]
    },
    {
     "data": {
      "application/vnd.jupyter.widget-view+json": {
       "model_id": "4c3ac293c78741fd8279bd2e03c40346",
       "version_major": 2,
       "version_minor": 0
      },
      "text/plain": [
       "HBox(children=(IntProgress(value=0, max=63), HTML(value='')))"
      ]
     },
     "metadata": {},
     "output_type": "display_data"
    },
    {
     "name": "stdout",
     "output_type": "stream",
     "text": [
      "\n"
     ]
    },
    {
     "data": {
      "application/vnd.jupyter.widget-view+json": {
       "model_id": "2cddd8a0275d4d7ab2f5ba7c466ef002",
       "version_major": 2,
       "version_minor": 0
      },
      "text/plain": [
       "HBox(children=(IntProgress(value=0, max=16), HTML(value='')))"
      ]
     },
     "metadata": {},
     "output_type": "display_data"
    },
    {
     "name": "stdout",
     "output_type": "stream",
     "text": [
      "\n",
      "Loss: 2.1156651973724365, Accuracy: 59.57647705078125, Test Loss: 2.7313666343688965, Test Accuracy: 55.79090881347656\n",
      "34\n"
     ]
    },
    {
     "data": {
      "application/vnd.jupyter.widget-view+json": {
       "model_id": "217092810a0844d5b98fe315df458cee",
       "version_major": 2,
       "version_minor": 0
      },
      "text/plain": [
       "HBox(children=(IntProgress(value=0, max=63), HTML(value='')))"
      ]
     },
     "metadata": {},
     "output_type": "display_data"
    },
    {
     "name": "stdout",
     "output_type": "stream",
     "text": [
      "\n"
     ]
    },
    {
     "data": {
      "application/vnd.jupyter.widget-view+json": {
       "model_id": "543ddcb8d8c244b3bf25ff49d57246b6",
       "version_major": 2,
       "version_minor": 0
      },
      "text/plain": [
       "HBox(children=(IntProgress(value=0, max=16), HTML(value='')))"
      ]
     },
     "metadata": {},
     "output_type": "display_data"
    },
    {
     "name": "stdout",
     "output_type": "stream",
     "text": [
      "\n",
      "Loss: 2.0753061771392822, Accuracy: 60.206668853759766, Test Loss: 2.7133023738861084, Test Accuracy: 56.10918426513672\n",
      "35\n"
     ]
    },
    {
     "data": {
      "application/vnd.jupyter.widget-view+json": {
       "model_id": "fe7829a46db143c58152f6587d34dc17",
       "version_major": 2,
       "version_minor": 0
      },
      "text/plain": [
       "HBox(children=(IntProgress(value=0, max=63), HTML(value='')))"
      ]
     },
     "metadata": {},
     "output_type": "display_data"
    },
    {
     "name": "stdout",
     "output_type": "stream",
     "text": [
      "\n"
     ]
    },
    {
     "data": {
      "application/vnd.jupyter.widget-view+json": {
       "model_id": "4c1986b8ed3f4a14b03c0fae26b1bfbb",
       "version_major": 2,
       "version_minor": 0
      },
      "text/plain": [
       "HBox(children=(IntProgress(value=0, max=16), HTML(value='')))"
      ]
     },
     "metadata": {},
     "output_type": "display_data"
    },
    {
     "name": "stdout",
     "output_type": "stream",
     "text": [
      "\n",
      "Loss: 2.036381244659424, Accuracy: 60.81870651245117, Test Loss: 2.6963131427764893, Test Accuracy: 56.40803527832031\n",
      "36\n"
     ]
    },
    {
     "data": {
      "application/vnd.jupyter.widget-view+json": {
       "model_id": "4f6a25a53fa24dc384731936342f012c",
       "version_major": 2,
       "version_minor": 0
      },
      "text/plain": [
       "HBox(children=(IntProgress(value=0, max=63), HTML(value='')))"
      ]
     },
     "metadata": {},
     "output_type": "display_data"
    },
    {
     "name": "stdout",
     "output_type": "stream",
     "text": [
      "\n"
     ]
    },
    {
     "data": {
      "application/vnd.jupyter.widget-view+json": {
       "model_id": "507bf096972e46218ef6c07a30d6cdcd",
       "version_major": 2,
       "version_minor": 0
      },
      "text/plain": [
       "HBox(children=(IntProgress(value=0, max=16), HTML(value='')))"
      ]
     },
     "metadata": {},
     "output_type": "display_data"
    },
    {
     "name": "stdout",
     "output_type": "stream",
     "text": [
      "\n",
      "Loss: 1.9989285469055176, Accuracy: 61.40645217895508, Test Loss: 2.6800200939178467, Test Accuracy: 56.69746398925781\n",
      "37\n"
     ]
    },
    {
     "data": {
      "application/vnd.jupyter.widget-view+json": {
       "model_id": "f71671db1c7c4c8290482c1c203e84f8",
       "version_major": 2,
       "version_minor": 0
      },
      "text/plain": [
       "HBox(children=(IntProgress(value=0, max=63), HTML(value='')))"
      ]
     },
     "metadata": {},
     "output_type": "display_data"
    },
    {
     "name": "stdout",
     "output_type": "stream",
     "text": [
      "\n"
     ]
    },
    {
     "data": {
      "application/vnd.jupyter.widget-view+json": {
       "model_id": "5ba1ac750e2f419e862569dad2b06dad",
       "version_major": 2,
       "version_minor": 0
      },
      "text/plain": [
       "HBox(children=(IntProgress(value=0, max=16), HTML(value='')))"
      ]
     },
     "metadata": {},
     "output_type": "display_data"
    },
    {
     "name": "stdout",
     "output_type": "stream",
     "text": [
      "\n",
      "Loss: 1.9627174139022827, Accuracy: 61.97849655151367, Test Loss: 2.664712905883789, Test Accuracy: 56.97077560424805\n",
      "38\n"
     ]
    },
    {
     "data": {
      "application/vnd.jupyter.widget-view+json": {
       "model_id": "908d2ae7d0a24b5fbe4c4d48c9d07069",
       "version_major": 2,
       "version_minor": 0
      },
      "text/plain": [
       "HBox(children=(IntProgress(value=0, max=63), HTML(value='')))"
      ]
     },
     "metadata": {},
     "output_type": "display_data"
    },
    {
     "name": "stdout",
     "output_type": "stream",
     "text": [
      "\n"
     ]
    },
    {
     "data": {
      "application/vnd.jupyter.widget-view+json": {
       "model_id": "0e788ea3880a457fac80c4979b49c390",
       "version_major": 2,
       "version_minor": 0
      },
      "text/plain": [
       "HBox(children=(IntProgress(value=0, max=16), HTML(value='')))"
      ]
     },
     "metadata": {},
     "output_type": "display_data"
    },
    {
     "name": "stdout",
     "output_type": "stream",
     "text": [
      "\n",
      "Loss: 1.9277968406677246, Accuracy: 62.534950256347656, Test Loss: 2.6498403549194336, Test Accuracy: 57.23423767089844\n",
      "39\n"
     ]
    },
    {
     "data": {
      "application/vnd.jupyter.widget-view+json": {
       "model_id": "8c684c7cbfc14cd2bff74b1b6a3ef423",
       "version_major": 2,
       "version_minor": 0
      },
      "text/plain": [
       "HBox(children=(IntProgress(value=0, max=63), HTML(value='')))"
      ]
     },
     "metadata": {},
     "output_type": "display_data"
    },
    {
     "name": "stdout",
     "output_type": "stream",
     "text": [
      "\n"
     ]
    },
    {
     "data": {
      "application/vnd.jupyter.widget-view+json": {
       "model_id": "57fca1de960d44b78192704cd37bc8e1",
       "version_major": 2,
       "version_minor": 0
      },
      "text/plain": [
       "HBox(children=(IntProgress(value=0, max=16), HTML(value='')))"
      ]
     },
     "metadata": {},
     "output_type": "display_data"
    },
    {
     "name": "stdout",
     "output_type": "stream",
     "text": [
      "\n",
      "Loss: 1.894142508506775, Accuracy: 63.070499420166016, Test Loss: 2.635671854019165, Test Accuracy: 57.4903678894043\n",
      "40\n"
     ]
    },
    {
     "data": {
      "application/vnd.jupyter.widget-view+json": {
       "model_id": "4c69ac6b843a4f758e4f4dec6e3f4cf5",
       "version_major": 2,
       "version_minor": 0
      },
      "text/plain": [
       "HBox(children=(IntProgress(value=0, max=63), HTML(value='')))"
      ]
     },
     "metadata": {},
     "output_type": "display_data"
    },
    {
     "name": "stdout",
     "output_type": "stream",
     "text": [
      "\n"
     ]
    },
    {
     "data": {
      "application/vnd.jupyter.widget-view+json": {
       "model_id": "7d1d29216d5f40cfae08f7161863e682",
       "version_major": 2,
       "version_minor": 0
      },
      "text/plain": [
       "HBox(children=(IntProgress(value=0, max=16), HTML(value='')))"
      ]
     },
     "metadata": {},
     "output_type": "display_data"
    },
    {
     "name": "stdout",
     "output_type": "stream",
     "text": [
      "\n",
      "Loss: 1.8618793487548828, Accuracy: 63.5838508605957, Test Loss: 2.6221237182617188, Test Accuracy: 57.72917175292969\n",
      "<S> stay thin . </S>\n",
      "reste doucement ! </S> ! </S> </S> . </S> </S> .\n",
      "<S> who wants it ? </S>\n",
      "qui veut ? </S> ? </S> ? </S> ? </S> ?\n"
     ]
    },
    {
     "data": {
      "image/png": "[encoded data removed]",
      "text/plain": [
       "<Figure size 720x720 with 1 Axes>"
      ]
     },
     "metadata": {
      "needs_background": "light"
     },
     "output_type": "display_data"
    },
    {
     "name": "stdout",
     "output_type": "stream",
     "text": [
      "41\n"
     ]
    },
    {
     "data": {
      "application/vnd.jupyter.widget-view+json": {
       "model_id": "e266550c26064583b925c9cdcf6666e1",
       "version_major": 2,
       "version_minor": 0
      },
      "text/plain": [
       "HBox(children=(IntProgress(value=0, max=63), HTML(value='')))"
      ]
     },
     "metadata": {},
     "output_type": "display_data"
    },
    {
     "name": "stdout",
     "output_type": "stream",
     "text": [
      "\n"
     ]
    },
    {
     "data": {
      "application/vnd.jupyter.widget-view+json": {
       "model_id": "865defd307e74ffdb75edbe198859426",
       "version_major": 2,
       "version_minor": 0
      },
      "text/plain": [
       "HBox(children=(IntProgress(value=0, max=16), HTML(value='')))"
      ]
     },
     "metadata": {},
     "output_type": "display_data"
    },
    {
     "name": "stdout",
     "output_type": "stream",
     "text": [
      "\n",
      "Loss: 1.830714225769043, Accuracy: 64.07768249511719, Test Loss: 2.609567642211914, Test Accuracy: 57.95569610595703\n",
      "42\n"
     ]
    },
    {
     "data": {
      "application/vnd.jupyter.widget-view+json": {
       "model_id": "d5d355b552404089896eed1ae39c7921",
       "version_major": 2,
       "version_minor": 0
      },
      "text/plain": [
       "HBox(children=(IntProgress(value=0, max=63), HTML(value='')))"
      ]
     },
     "metadata": {},
     "output_type": "display_data"
    },
    {
     "name": "stdout",
     "output_type": "stream",
     "text": [
      "\n"
     ]
    },
    {
     "data": {
      "application/vnd.jupyter.widget-view+json": {
       "model_id": "2b38bf5d193249c392ff1438e3cb4f33",
       "version_major": 2,
       "version_minor": 0
      },
      "text/plain": [
       "HBox(children=(IntProgress(value=0, max=16), HTML(value='')))"
      ]
     },
     "metadata": {},
     "output_type": "display_data"
    },
    {
     "name": "stdout",
     "output_type": "stream",
     "text": [
      "\n",
      "Loss: 1.8001294136047363, Accuracy: 64.56908416748047, Test Loss: 2.597195863723755, Test Accuracy: 58.18024826049805\n",
      "43\n"
     ]
    },
    {
     "data": {
      "application/vnd.jupyter.widget-view+json": {
       "model_id": "0e17aff44f15418299909730a215df34",
       "version_major": 2,
       "version_minor": 0
      },
      "text/plain": [
       "HBox(children=(IntProgress(value=0, max=63), HTML(value='')))"
      ]
     },
     "metadata": {},
     "output_type": "display_data"
    },
    {
     "name": "stdout",
     "output_type": "stream",
     "text": [
      "\n"
     ]
    },
    {
     "data": {
      "application/vnd.jupyter.widget-view+json": {
       "model_id": "8b8e35dd00774ad2bed655439f4db15d",
       "version_major": 2,
       "version_minor": 0
      },
      "text/plain": [
       "HBox(children=(IntProgress(value=0, max=16), HTML(value='')))"
      ]
     },
     "metadata": {},
     "output_type": "display_data"
    },
    {
     "name": "stdout",
     "output_type": "stream",
     "text": [
      "\n",
      "Loss: 1.7703288793563843, Accuracy: 65.04841613769531, Test Loss: 2.584912061691284, Test Accuracy: 58.401153564453125\n",
      "44\n"
     ]
    },
    {
     "data": {
      "application/vnd.jupyter.widget-view+json": {
       "model_id": "af31536e446a4b07b0f11917f8cc50be",
       "version_major": 2,
       "version_minor": 0
      },
      "text/plain": [
       "HBox(children=(IntProgress(value=0, max=63), HTML(value='')))"
      ]
     },
     "metadata": {},
     "output_type": "display_data"
    },
    {
     "name": "stdout",
     "output_type": "stream",
     "text": [
      "\n"
     ]
    },
    {
     "data": {
      "application/vnd.jupyter.widget-view+json": {
       "model_id": "a71fd0bf04da4ca4a3fda6f43f17e251",
       "version_major": 2,
       "version_minor": 0
      },
      "text/plain": [
       "HBox(children=(IntProgress(value=0, max=16), HTML(value='')))"
      ]
     },
     "metadata": {},
     "output_type": "display_data"
    },
    {
     "name": "stdout",
     "output_type": "stream",
     "text": [
      "\n",
      "Loss: 1.741292119026184, Accuracy: 65.52040100097656, Test Loss: 2.5731279850006104, Test Accuracy: 58.61554718017578\n",
      "45\n"
     ]
    },
    {
     "data": {
      "application/vnd.jupyter.widget-view+json": {
       "model_id": "8690c7bd733b4d07a1960d2f8e1e24bd",
       "version_major": 2,
       "version_minor": 0
      },
      "text/plain": [
       "HBox(children=(IntProgress(value=0, max=63), HTML(value='')))"
      ]
     },
     "metadata": {},
     "output_type": "display_data"
    },
    {
     "name": "stdout",
     "output_type": "stream",
     "text": [
      "\n"
     ]
    },
    {
     "data": {
      "application/vnd.jupyter.widget-view+json": {
       "model_id": "0364d097079b404897bd7ecc6c1d044f",
       "version_major": 2,
       "version_minor": 0
      },
      "text/plain": [
       "HBox(children=(IntProgress(value=0, max=16), HTML(value='')))"
      ]
     },
     "metadata": {},
     "output_type": "display_data"
    },
    {
     "name": "stdout",
     "output_type": "stream",
     "text": [
      "\n",
      "Loss: 1.7131567001342773, Accuracy: 65.97931671142578, Test Loss: 2.5618200302124023, Test Accuracy: 58.824432373046875\n",
      "46\n"
     ]
    },
    {
     "data": {
      "application/vnd.jupyter.widget-view+json": {
       "model_id": "88f237753a2344e6a77523488e8cacc8",
       "version_major": 2,
       "version_minor": 0
      },
      "text/plain": [
       "HBox(children=(IntProgress(value=0, max=63), HTML(value='')))"
      ]
     },
     "metadata": {},
     "output_type": "display_data"
    },
    {
     "name": "stdout",
     "output_type": "stream",
     "text": [
      "\n"
     ]
    },
    {
     "data": {
      "application/vnd.jupyter.widget-view+json": {
       "model_id": "c0a9f87184554ddeb985b4ca665ac3ad",
       "version_major": 2,
       "version_minor": 0
      },
      "text/plain": [
       "HBox(children=(IntProgress(value=0, max=16), HTML(value='')))"
      ]
     },
     "metadata": {},
     "output_type": "display_data"
    },
    {
     "name": "stdout",
     "output_type": "stream",
     "text": [
      "\n",
      "Loss: 1.6858506202697754, Accuracy: 66.42745971679688, Test Loss: 2.5509984493255615, Test Accuracy: 59.02478790283203\n",
      "47\n"
     ]
    },
    {
     "data": {
      "application/vnd.jupyter.widget-view+json": {
       "model_id": "63a9dbb384024e03b35ecbe82c70a42c",
       "version_major": 2,
       "version_minor": 0
      },
      "text/plain": [
       "HBox(children=(IntProgress(value=0, max=63), HTML(value='')))"
      ]
     },
     "metadata": {},
     "output_type": "display_data"
    },
    {
     "name": "stdout",
     "output_type": "stream",
     "text": [
      "\n"
     ]
    },
    {
     "data": {
      "application/vnd.jupyter.widget-view+json": {
       "model_id": "38f13d624959401ab361f0b511899de4",
       "version_major": 2,
       "version_minor": 0
      },
      "text/plain": [
       "HBox(children=(IntProgress(value=0, max=16), HTML(value='')))"
      ]
     },
     "metadata": {},
     "output_type": "display_data"
    },
    {
     "name": "stdout",
     "output_type": "stream",
     "text": [
      "\n",
      "Loss: 1.6594038009643555, Accuracy: 66.8631820678711, Test Loss: 2.54054856300354, Test Accuracy: 59.2193717956543\n",
      "48\n"
     ]
    },
    {
     "data": {
      "application/vnd.jupyter.widget-view+json": {
       "model_id": "8af8bd8edd2142668b84da526b960719",
       "version_major": 2,
       "version_minor": 0
      },
      "text/plain": [
       "HBox(children=(IntProgress(value=0, max=63), HTML(value='')))"
      ]
     },
     "metadata": {},
     "output_type": "display_data"
    },
    {
     "name": "stdout",
     "output_type": "stream",
     "text": [
      "\n"
     ]
    },
    {
     "data": {
      "application/vnd.jupyter.widget-view+json": {
       "model_id": "e246e3323a3449d080bf12927207b90a",
       "version_major": 2,
       "version_minor": 0
      },
      "text/plain": [
       "HBox(children=(IntProgress(value=0, max=16), HTML(value='')))"
      ]
     },
     "metadata": {},
     "output_type": "display_data"
    },
    {
     "name": "stdout",
     "output_type": "stream",
     "text": [
      "\n",
      "Loss: 1.633847713470459, Accuracy: 67.28362274169922, Test Loss: 2.5307650566101074, Test Accuracy: 59.408355712890625\n",
      "49\n"
     ]
    },
    {
     "data": {
      "application/vnd.jupyter.widget-view+json": {
       "model_id": "ce0b8bdca2a14bd291aec8a188061127",
       "version_major": 2,
       "version_minor": 0
      },
      "text/plain": [
       "HBox(children=(IntProgress(value=0, max=63), HTML(value='')))"
      ]
     },
     "metadata": {},
     "output_type": "display_data"
    },
    {
     "name": "stdout",
     "output_type": "stream",
     "text": [
      "\n"
     ]
    },
    {
     "data": {
      "application/vnd.jupyter.widget-view+json": {
       "model_id": "d6f619411124406388600c4b21ecc2e2",
       "version_major": 2,
       "version_minor": 0
      },
      "text/plain": [
       "HBox(children=(IntProgress(value=0, max=16), HTML(value='')))"
      ]
     },
     "metadata": {},
     "output_type": "display_data"
    },
    {
     "name": "stdout",
     "output_type": "stream",
     "text": [
      "\n",
      "Loss: 1.6089930534362793, Accuracy: 67.69329071044922, Test Loss: 2.521578311920166, Test Accuracy: 59.588043212890625\n",
      "50\n"
     ]
    },
    {
     "data": {
      "application/vnd.jupyter.widget-view+json": {
       "model_id": "df280c4abf4e42848a41b6db64955e80",
       "version_major": 2,
       "version_minor": 0
      },
      "text/plain": [
       "HBox(children=(IntProgress(value=0, max=63), HTML(value='')))"
      ]
     },
     "metadata": {},
     "output_type": "display_data"
    },
    {
     "name": "stdout",
     "output_type": "stream",
     "text": [
      "\n"
     ]
    },
    {
     "data": {
      "application/vnd.jupyter.widget-view+json": {
       "model_id": "d7394980fa234bd7943a8958d2df17a3",
       "version_major": 2,
       "version_minor": 0
      },
      "text/plain": [
       "HBox(children=(IntProgress(value=0, max=16), HTML(value='')))"
      ]
     },
     "metadata": {},
     "output_type": "display_data"
    },
    {
     "name": "stdout",
     "output_type": "stream",
     "text": [
      "\n",
      "Loss: 1.5849229097366333, Accuracy: 68.0899658203125, Test Loss: 2.513073682785034, Test Accuracy: 59.76054763793945\n",
      "<S> stay thin . </S>\n",
      "reste doucement ! </S> ! </S> chose ! </S> . </S>\n",
      "<S> who wants it ? </S>\n",
      "qui veut ça ? </S> ? </S> ? </S> ? </S>\n"
     ]
    },
    {
     "data": {
      "image/png": "[encoded data removed]",
      "text/plain": [
       "<Figure size 720x720 with 1 Axes>"
      ]
     },
     "metadata": {
      "needs_background": "light"
     },
     "output_type": "display_data"
    },
    {
     "name": "stdout",
     "output_type": "stream",
     "text": [
      "51\n"
     ]
    },
    {
     "data": {
      "application/vnd.jupyter.widget-view+json": {
       "model_id": "f459860ddae34af194933e460d485752",
       "version_major": 2,
       "version_minor": 0
      },
      "text/plain": [
       "HBox(children=(IntProgress(value=0, max=63), HTML(value='')))"
      ]
     },
     "metadata": {},
     "output_type": "display_data"
    },
    {
     "name": "stdout",
     "output_type": "stream",
     "text": [
      "\n"
     ]
    },
    {
     "data": {
      "application/vnd.jupyter.widget-view+json": {
       "model_id": "5e8337a67d544d2a8a7b086c8c25a0c8",
       "version_major": 2,
       "version_minor": 0
      },
      "text/plain": [
       "HBox(children=(IntProgress(value=0, max=16), HTML(value='')))"
      ]
     },
     "metadata": {},
     "output_type": "display_data"
    },
    {
     "name": "stdout",
     "output_type": "stream",
     "text": [
      "\n",
      "Loss: 1.561653733253479, Accuracy: 68.47527313232422, Test Loss: 2.5051586627960205, Test Accuracy: 59.923583984375\n",
      "52\n"
     ]
    },
    {
     "data": {
      "application/vnd.jupyter.widget-view+json": {
       "model_id": "4620644b67c94292a5ee9c35c20d1456",
       "version_major": 2,
       "version_minor": 0
      },
      "text/plain": [
       "HBox(children=(IntProgress(value=0, max=63), HTML(value='')))"
      ]
     },
     "metadata": {},
     "output_type": "display_data"
    },
    {
     "name": "stdout",
     "output_type": "stream",
     "text": [
      "\n"
     ]
    },
    {
     "data": {
      "application/vnd.jupyter.widget-view+json": {
       "model_id": "8f9ed7b844cd4dcfaa33e89ef2db61df",
       "version_major": 2,
       "version_minor": 0
      },
      "text/plain": [
       "HBox(children=(IntProgress(value=0, max=16), HTML(value='')))"
      ]
     },
     "metadata": {},
     "output_type": "display_data"
    },
    {
     "name": "stdout",
     "output_type": "stream",
     "text": [
      "\n",
      "Loss: 1.5390642881393433, Accuracy: 68.8486557006836, Test Loss: 2.4975759983062744, Test Accuracy: 60.07869338989258\n",
      "53\n"
     ]
    },
    {
     "data": {
      "application/vnd.jupyter.widget-view+json": {
       "model_id": "480d36dd399046cf9ca286b360a80e17",
       "version_major": 2,
       "version_minor": 0
      },
      "text/plain": [
       "HBox(children=(IntProgress(value=0, max=63), HTML(value='')))"
      ]
     },
     "metadata": {},
     "output_type": "display_data"
    },
    {
     "name": "stdout",
     "output_type": "stream",
     "text": [
      "\n"
     ]
    },
    {
     "data": {
      "application/vnd.jupyter.widget-view+json": {
       "model_id": "7b364d748b3e4c19b260b8912ee9134d",
       "version_major": 2,
       "version_minor": 0
      },
      "text/plain": [
       "HBox(children=(IntProgress(value=0, max=16), HTML(value='')))"
      ]
     },
     "metadata": {},
     "output_type": "display_data"
    },
    {
     "name": "stdout",
     "output_type": "stream",
     "text": [
      "\n",
      "Loss: 1.5171961784362793, Accuracy: 69.20771026611328, Test Loss: 2.490206241607666, Test Accuracy: 60.227787017822266\n",
      "54\n"
     ]
    },
    {
     "data": {
      "application/vnd.jupyter.widget-view+json": {
       "model_id": "f4f8d4806b2e44e5a579aa51f54fb49d",
       "version_major": 2,
       "version_minor": 0
      },
      "text/plain": [
       "HBox(children=(IntProgress(value=0, max=63), HTML(value='')))"
      ]
     },
     "metadata": {},
     "output_type": "display_data"
    },
    {
     "name": "stdout",
     "output_type": "stream",
     "text": [
      "\n"
     ]
    },
    {
     "data": {
      "application/vnd.jupyter.widget-view+json": {
       "model_id": "5364a44948cb4da7abac5073e81c477e",
       "version_major": 2,
       "version_minor": 0
      },
      "text/plain": [
       "HBox(children=(IntProgress(value=0, max=16), HTML(value='')))"
      ]
     },
     "metadata": {},
     "output_type": "display_data"
    },
    {
     "name": "stdout",
     "output_type": "stream",
     "text": [
      "\n",
      "Loss: 1.4959419965744019, Accuracy: 69.55618286132812, Test Loss: 2.4831104278564453, Test Accuracy: 60.37853240966797\n",
      "55\n"
     ]
    },
    {
     "data": {
      "application/vnd.jupyter.widget-view+json": {
       "model_id": "a1d0c02f23b740ab94212caf278648de",
       "version_major": 2,
       "version_minor": 0
      },
      "text/plain": [
       "HBox(children=(IntProgress(value=0, max=63), HTML(value='')))"
      ]
     },
     "metadata": {},
     "output_type": "display_data"
    },
    {
     "name": "stdout",
     "output_type": "stream",
     "text": [
      "\n"
     ]
    },
    {
     "data": {
      "application/vnd.jupyter.widget-view+json": {
       "model_id": "12c9c5a8295b428b87dc2bd4b7dce8c2",
       "version_major": 2,
       "version_minor": 0
      },
      "text/plain": [
       "HBox(children=(IntProgress(value=0, max=16), HTML(value='')))"
      ]
     },
     "metadata": {},
     "output_type": "display_data"
    },
    {
     "name": "stdout",
     "output_type": "stream",
     "text": [
      "\n",
      "Loss: 1.4752684831619263, Accuracy: 69.89554595947266, Test Loss: 2.4763119220733643, Test Accuracy: 60.52269744873047\n",
      "56\n"
     ]
    },
    {
     "data": {
      "application/vnd.jupyter.widget-view+json": {
       "model_id": "40b44f9f78d24c5f8548627251d4a25c",
       "version_major": 2,
       "version_minor": 0
      },
      "text/plain": [
       "HBox(children=(IntProgress(value=0, max=63), HTML(value='')))"
      ]
     },
     "metadata": {},
     "output_type": "display_data"
    },
    {
     "name": "stdout",
     "output_type": "stream",
     "text": [
      "\n"
     ]
    },
    {
     "data": {
      "application/vnd.jupyter.widget-view+json": {
       "model_id": "72b52e65bddc414fb2a07243e84cd310",
       "version_major": 2,
       "version_minor": 0
      },
      "text/plain": [
       "HBox(children=(IntProgress(value=0, max=16), HTML(value='')))"
      ]
     },
     "metadata": {},
     "output_type": "display_data"
    },
    {
     "name": "stdout",
     "output_type": "stream",
     "text": [
      "\n",
      "Loss: 1.4552319049835205, Accuracy: 70.22386932373047, Test Loss: 2.469888925552368, Test Accuracy: 60.66141128540039\n",
      "57\n"
     ]
    },
    {
     "data": {
      "application/vnd.jupyter.widget-view+json": {
       "model_id": "d4ed86d237904dccb5b6d527dc845fca",
       "version_major": 2,
       "version_minor": 0
      },
      "text/plain": [
       "HBox(children=(IntProgress(value=0, max=63), HTML(value='')))"
      ]
     },
     "metadata": {},
     "output_type": "display_data"
    },
    {
     "name": "stdout",
     "output_type": "stream",
     "text": [
      "\n"
     ]
    },
    {
     "data": {
      "application/vnd.jupyter.widget-view+json": {
       "model_id": "27a250cd08b34958969daa9d5c0e8937",
       "version_major": 2,
       "version_minor": 0
      },
      "text/plain": [
       "HBox(children=(IntProgress(value=0, max=16), HTML(value='')))"
      ]
     },
     "metadata": {},
     "output_type": "display_data"
    },
    {
     "name": "stdout",
     "output_type": "stream",
     "text": [
      "\n",
      "Loss: 1.4359192848205566, Accuracy: 70.53945922851562, Test Loss: 2.4636690616607666, Test Accuracy: 60.79419708251953\n",
      "58\n"
     ]
    },
    {
     "data": {
      "application/vnd.jupyter.widget-view+json": {
       "model_id": "2258d8b669194fd19822d59111409750",
       "version_major": 2,
       "version_minor": 0
      },
      "text/plain": [
       "HBox(children=(IntProgress(value=0, max=63), HTML(value='')))"
      ]
     },
     "metadata": {},
     "output_type": "display_data"
    },
    {
     "name": "stdout",
     "output_type": "stream",
     "text": [
      "\n"
     ]
    },
    {
     "data": {
      "application/vnd.jupyter.widget-view+json": {
       "model_id": "1d67496556a448e0b1af7a06fe0f6c62",
       "version_major": 2,
       "version_minor": 0
      },
      "text/plain": [
       "HBox(children=(IntProgress(value=0, max=16), HTML(value='')))"
      ]
     },
     "metadata": {},
     "output_type": "display_data"
    },
    {
     "name": "stdout",
     "output_type": "stream",
     "text": [
      "\n",
      "Loss: 1.4171438217163086, Accuracy: 70.84439086914062, Test Loss: 2.457827568054199, Test Accuracy: 60.92478561401367\n",
      "59\n"
     ]
    },
    {
     "data": {
      "application/vnd.jupyter.widget-view+json": {
       "model_id": "80657451f4ae40dbb3aa3e455f7f838e",
       "version_major": 2,
       "version_minor": 0
      },
      "text/plain": [
       "HBox(children=(IntProgress(value=0, max=63), HTML(value='')))"
      ]
     },
     "metadata": {},
     "output_type": "display_data"
    },
    {
     "name": "stdout",
     "output_type": "stream",
     "text": [
      "\n"
     ]
    },
    {
     "data": {
      "application/vnd.jupyter.widget-view+json": {
       "model_id": "37db40c51db744f39db86f928c35f67c",
       "version_major": 2,
       "version_minor": 0
      },
      "text/plain": [
       "HBox(children=(IntProgress(value=0, max=16), HTML(value='')))"
      ]
     },
     "metadata": {},
     "output_type": "display_data"
    },
    {
     "name": "stdout",
     "output_type": "stream",
     "text": [
      "\n",
      "Loss: 1.3987722396850586, Accuracy: 71.14643859863281, Test Loss: 2.4520363807678223, Test Accuracy: 61.04875183105469\n",
      "60\n"
     ]
    },
    {
     "data": {
      "application/vnd.jupyter.widget-view+json": {
       "model_id": "9c7dbe47bf0c489a8d5430e64eba2128",
       "version_major": 2,
       "version_minor": 0
      },
      "text/plain": [
       "HBox(children=(IntProgress(value=0, max=63), HTML(value='')))"
      ]
     },
     "metadata": {},
     "output_type": "display_data"
    },
    {
     "name": "stdout",
     "output_type": "stream",
     "text": [
      "\n"
     ]
    },
    {
     "data": {
      "application/vnd.jupyter.widget-view+json": {
       "model_id": "6a540396dc034b15a98d3510d30be9c4",
       "version_major": 2,
       "version_minor": 0
      },
      "text/plain": [
       "HBox(children=(IntProgress(value=0, max=16), HTML(value='')))"
      ]
     },
     "metadata": {},
     "output_type": "display_data"
    },
    {
     "name": "stdout",
     "output_type": "stream",
     "text": [
      "\n",
      "Loss: 1.380835771560669, Accuracy: 71.44208526611328, Test Loss: 2.446599245071411, Test Accuracy: 61.16529083251953\n",
      "<S> stay thin . </S>\n",
      "reste doucement ! </S> ! </S> </S> chose ! </S> chose\n",
      "<S> who wants it ? </S>\n",
      "qui veut ça ? </S> ? </S> ? </S> ? </S>\n"
     ]
    },
    {
     "data": {
      "image/png": "[encoded data removed]",
      "text/plain": [
       "<Figure size 720x720 with 1 Axes>"
      ]
     },
     "metadata": {
      "needs_background": "light"
     },
     "output_type": "display_data"
    },
    {
     "name": "stdout",
     "output_type": "stream",
     "text": [
      "61\n"
     ]
    },
    {
     "data": {
      "application/vnd.jupyter.widget-view+json": {
       "model_id": "10e45bb7278a45619d6785dc57f25d7f",
       "version_major": 2,
       "version_minor": 0
      },
      "text/plain": [
       "HBox(children=(IntProgress(value=0, max=63), HTML(value='')))"
      ]
     },
     "metadata": {},
     "output_type": "display_data"
    },
    {
     "name": "stdout",
     "output_type": "stream",
     "text": [
      "\n"
     ]
    },
    {
     "data": {
      "application/vnd.jupyter.widget-view+json": {
       "model_id": "52040c53860a4de3b4373f46174efa21",
       "version_major": 2,
       "version_minor": 0
      },
      "text/plain": [
       "HBox(children=(IntProgress(value=0, max=16), HTML(value='')))"
      ]
     },
     "metadata": {},
     "output_type": "display_data"
    },
    {
     "name": "stdout",
     "output_type": "stream",
     "text": [
      "\n",
      "Loss: 1.3633660078048706, Accuracy: 71.72725677490234, Test Loss: 2.4412014484405518, Test Accuracy: 61.280967712402344\n",
      "62\n"
     ]
    },
    {
     "data": {
      "application/vnd.jupyter.widget-view+json": {
       "model_id": "cd4103e0e4394c3788cd42b7a1cd2508",
       "version_major": 2,
       "version_minor": 0
      },
      "text/plain": [
       "HBox(children=(IntProgress(value=0, max=63), HTML(value='')))"
      ]
     },
     "metadata": {},
     "output_type": "display_data"
    },
    {
     "name": "stdout",
     "output_type": "stream",
     "text": [
      "\n"
     ]
    },
    {
     "data": {
      "application/vnd.jupyter.widget-view+json": {
       "model_id": "75a4d6ab9a7046cfa2662f9dee8cfb59",
       "version_major": 2,
       "version_minor": 0
      },
      "text/plain": [
       "HBox(children=(IntProgress(value=0, max=16), HTML(value='')))"
      ]
     },
     "metadata": {},
     "output_type": "display_data"
    },
    {
     "name": "stdout",
     "output_type": "stream",
     "text": [
      "\n",
      "Loss: 1.3462682962417603, Accuracy: 72.00830841064453, Test Loss: 2.436000108718872, Test Accuracy: 61.39555740356445\n",
      "63\n"
     ]
    },
    {
     "data": {
      "application/vnd.jupyter.widget-view+json": {
       "model_id": "7662515f9c9849c9994f66a98c6c3ebb",
       "version_major": 2,
       "version_minor": 0
      },
      "text/plain": [
       "HBox(children=(IntProgress(value=0, max=63), HTML(value='')))"
      ]
     },
     "metadata": {},
     "output_type": "display_data"
    },
    {
     "name": "stdout",
     "output_type": "stream",
     "text": [
      "\n"
     ]
    },
    {
     "data": {
      "application/vnd.jupyter.widget-view+json": {
       "model_id": "5f32cfe5d36b4455a25d2a5d91efa287",
       "version_major": 2,
       "version_minor": 0
      },
      "text/plain": [
       "HBox(children=(IntProgress(value=0, max=16), HTML(value='')))"
      ]
     },
     "metadata": {},
     "output_type": "display_data"
    },
    {
     "name": "stdout",
     "output_type": "stream",
     "text": [
      "\n",
      "Loss: 1.3296058177947998, Accuracy: 72.28190612792969, Test Loss: 2.4310667514801025, Test Accuracy: 61.512237548828125\n",
      "64\n"
     ]
    },
    {
     "data": {
      "application/vnd.jupyter.widget-view+json": {
       "model_id": "a8d2416f1f214203bd7baf820e4b3ef8",
       "version_major": 2,
       "version_minor": 0
      },
      "text/plain": [
       "HBox(children=(IntProgress(value=0, max=63), HTML(value='')))"
      ]
     },
     "metadata": {},
     "output_type": "display_data"
    },
    {
     "name": "stdout",
     "output_type": "stream",
     "text": [
      "\n"
     ]
    },
    {
     "data": {
      "application/vnd.jupyter.widget-view+json": {
       "model_id": "2d3384465de04f749bcc85b699f61142",
       "version_major": 2,
       "version_minor": 0
      },
      "text/plain": [
       "HBox(children=(IntProgress(value=0, max=16), HTML(value='')))"
      ]
     },
     "metadata": {},
     "output_type": "display_data"
    },
    {
     "name": "stdout",
     "output_type": "stream",
     "text": [
      "\n",
      "Loss: 1.3133450746536255, Accuracy: 72.55049133300781, Test Loss: 2.4266326427459717, Test Accuracy: 61.61935806274414\n",
      "65\n"
     ]
    },
    {
     "data": {
      "application/vnd.jupyter.widget-view+json": {
       "model_id": "42f7c62eae4c4e1d858f585ec9eb2a11",
       "version_major": 2,
       "version_minor": 0
      },
      "text/plain": [
       "HBox(children=(IntProgress(value=0, max=63), HTML(value='')))"
      ]
     },
     "metadata": {},
     "output_type": "display_data"
    },
    {
     "name": "stdout",
     "output_type": "stream",
     "text": [
      "\n"
     ]
    },
    {
     "data": {
      "application/vnd.jupyter.widget-view+json": {
       "model_id": "a2e5c239b14a4101bc8507c4128a48a4",
       "version_major": 2,
       "version_minor": 0
      },
      "text/plain": [
       "HBox(children=(IntProgress(value=0, max=16), HTML(value='')))"
      ]
     },
     "metadata": {},
     "output_type": "display_data"
    },
    {
     "name": "stdout",
     "output_type": "stream",
     "text": [
      "\n",
      "Loss: 1.2974247932434082, Accuracy: 72.81269836425781, Test Loss: 2.422440767288208, Test Accuracy: 61.721336364746094\n",
      "66\n"
     ]
    },
    {
     "data": {
      "application/vnd.jupyter.widget-view+json": {
       "model_id": "5e55ab3a27264796b33742bde659557f",
       "version_major": 2,
       "version_minor": 0
      },
      "text/plain": [
       "HBox(children=(IntProgress(value=0, max=63), HTML(value='')))"
      ]
     },
     "metadata": {},
     "output_type": "display_data"
    },
    {
     "name": "stdout",
     "output_type": "stream",
     "text": [
      "\n"
     ]
    },
    {
     "data": {
      "application/vnd.jupyter.widget-view+json": {
       "model_id": "8cca9cd5fa5d42018be6e1a420bf0a2a",
       "version_major": 2,
       "version_minor": 0
      },
      "text/plain": [
       "HBox(children=(IntProgress(value=0, max=16), HTML(value='')))"
      ]
     },
     "metadata": {},
     "output_type": "display_data"
    },
    {
     "name": "stdout",
     "output_type": "stream",
     "text": [
      "\n",
      "Loss: 1.2819139957427979, Accuracy: 73.0687255859375, Test Loss: 2.4183509349823, Test Accuracy: 61.82229995727539\n",
      "67\n"
     ]
    },
    {
     "data": {
      "application/vnd.jupyter.widget-view+json": {
       "model_id": "e69001dc170c4a3bbcf512f7af201d02",
       "version_major": 2,
       "version_minor": 0
      },
      "text/plain": [
       "HBox(children=(IntProgress(value=0, max=63), HTML(value='')))"
      ]
     },
     "metadata": {},
     "output_type": "display_data"
    },
    {
     "name": "stdout",
     "output_type": "stream",
     "text": [
      "\n"
     ]
    },
    {
     "data": {
      "application/vnd.jupyter.widget-view+json": {
       "model_id": "1956ceedd8974a339cc5761566fa52ec",
       "version_major": 2,
       "version_minor": 0
      },
      "text/plain": [
       "HBox(children=(IntProgress(value=0, max=16), HTML(value='')))"
      ]
     },
     "metadata": {},
     "output_type": "display_data"
    },
    {
     "name": "stdout",
     "output_type": "stream",
     "text": [
      "\n",
      "Loss: 1.2668622732162476, Accuracy: 73.31704711914062, Test Loss: 2.414257287979126, Test Accuracy: 61.9260368347168\n",
      "68\n"
     ]
    },
    {
     "data": {
      "application/vnd.jupyter.widget-view+json": {
       "model_id": "78aa5379d0b1412cbf83a6ff6b459afa",
       "version_major": 2,
       "version_minor": 0
      },
      "text/plain": [
       "HBox(children=(IntProgress(value=0, max=63), HTML(value='')))"
      ]
     },
     "metadata": {},
     "output_type": "display_data"
    },
    {
     "name": "stdout",
     "output_type": "stream",
     "text": [
      "\n"
     ]
    },
    {
     "data": {
      "application/vnd.jupyter.widget-view+json": {
       "model_id": "d184b090a54a43d581ba9845de39d977",
       "version_major": 2,
       "version_minor": 0
      },
      "text/plain": [
       "HBox(children=(IntProgress(value=0, max=16), HTML(value='')))"
      ]
     },
     "metadata": {},
     "output_type": "display_data"
    },
    {
     "name": "stdout",
     "output_type": "stream",
     "text": [
      "\n",
      "Loss: 1.252091407775879, Accuracy: 73.5638656616211, Test Loss: 2.4103331565856934, Test Accuracy: 62.02457046508789\n",
      "69\n"
     ]
    },
    {
     "data": {
      "application/vnd.jupyter.widget-view+json": {
       "model_id": "88a7e7301b8f42218cbfe5077824fa37",
       "version_major": 2,
       "version_minor": 0
      },
      "text/plain": [
       "HBox(children=(IntProgress(value=0, max=63), HTML(value='')))"
      ]
     },
     "metadata": {},
     "output_type": "display_data"
    }
   ],
   "source": [
    "\n",
    "for epoch in range(1, epochs + 1):\n",
    "    print(epoch,flush=True,)\n",
    "\n",
    "    for x,y in tqdm(train_data):\n",
    "        \n",
    "        x,x_mask = tf.split(x,2,axis=1)\n",
    "        x_out,y,y_mask = tf.split(y,3,axis=1)\n",
    "        \n",
    "        y_onehot = tf.one_hot(y,depth = word_vectors_fr.shape[0])\n",
    "        loss,label,prediction = compute_apply_gradients(model,loss_f,x,x_mask,x_out,y_onehot,y_mask,optimizer)\n",
    "\n",
    "        train_loss(loss)\n",
    "        train_accuracy(label, prediction)\n",
    "        \n",
    "    for x,y in tqdm(test_data):\n",
    "\n",
    "        x,x_mask = tf.split(x,2,axis=1)\n",
    "        x_out,y,y_mask = tf.split(y,3,axis=1)\n",
    "        \n",
    "        y_out_onehot = tf.one_hot(y,depth = word_vectors_fr.shape[0])\n",
    "        loss,label,prediction = compute_loss(model,loss_f,x,x_mask,x_out,y_out_onehot,y_mask)\n",
    "\n",
    "        test_loss(loss)\n",
    "        test_accuracy(label, prediction)\n",
    "      \n",
    "    print(\n",
    "    f'Loss: {train_loss.result()}, '\n",
    "    f'Accuracy: {train_accuracy.result() * 100}, '\n",
    "    f'Test Loss: {test_loss.result()}, '\n",
    "    f'Test Accuracy: {test_accuracy.result() * 100}')\n",
    "    \n",
    "    tr_loss.append(train_loss.result())\n",
    "    te_loss.append(test_loss.result())\n",
    "    tr_acc.append(train_accuracy.result())\n",
    "    te_acc.append(test_accuracy.result())\n",
    "    if epoch % 2 == 0:\n",
    "        checkpoint.save(file_prefix=checkpoint_prefix)\n",
    "        \n",
    "    if epoch % 10 == 0:\n",
    "        print(\" \".join(ang[1000]))\n",
    "        print(\" \".join(model.generate(word_map_fr[\"<S>\"],ang_tok[1000,:],ang_mask[1000,:])))\n",
    "\n",
    "        print(\" \".join(ang[5000]))\n",
    "        print(\" \".join(model.generate(word_map_fr[\"<S>\"],ang_tok[5000,:],ang_mask[5000,:])))\n",
    "\n",
    "        wei = model.att_wei(ang_tok[5000,:],ang_mask[5000,:],fra_tok[5000,:],fra_mask[5000,:])\n",
    "        plot_weight(fra[5000],ang[5000],wei)\n",
    "\n"
   ]
  },
  {
   "cell_type": "code",
   "execution_count": null,
   "metadata": {},
   "outputs": [],
   "source": [
    "import matplotlib.pyplot as plt\n",
    "%matplotlib inline\n",
    "\n",
    "plt.plot(tr_loss, c=\"orange\")\n",
    "plt.plot(te_loss, c=\"blue\")\n",
    "plt.title(\"Loss\")\n",
    "plt.show()\n",
    "\n",
    "plt.clf()\n",
    "plt.plot(tr_acc, c=\"orange\")\n",
    "plt.plot(te_acc, c=\"red\")\n",
    "plt.title(\"Accuracy\")\n",
    "plt.show()"
   ]
  },
  {
   "cell_type": "code",
   "execution_count": null,
   "metadata": {},
   "outputs": [],
   "source": [
    "wei = model.att_wei(ang_tok[5000,:],ang_mask[5000,:],fra_tok[5000,:],fra_mask[5000,:])\n",
    "plot_weight(fra[5000],ang[5000],wei)"
   ]
  }
 ],
 "metadata": {
  "kernelspec": {
   "display_name": "Python 3",
   "language": "python",
   "name": "python3"
  },
  "language_info": {
   "codemirror_mode": {
    "name": "ipython",
    "version": 3
   },
   "file_extension": ".py",
   "mimetype": "text/x-python",
   "name": "python",
   "nbconvert_exporter": "python",
   "pygments_lexer": "ipython3",
   "version": "3.7.4"
  }
 },
 "nbformat": 4,
 "nbformat_minor": 2
}
